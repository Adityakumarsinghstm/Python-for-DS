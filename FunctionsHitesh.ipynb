{
 "cells": [
  {
   "cell_type": "markdown",
   "id": "8c551d62-aef0-40e9-b3be-260cbdca4fa0",
   "metadata": {},
   "source": [
    "# Function\n"
   ]
  },
  {
   "cell_type": "code",
   "execution_count": 4,
   "id": "a0f0f469-e748-4c02-bd2a-c062e4aa2d61",
   "metadata": {},
   "outputs": [
    {
     "name": "stdout",
     "output_type": "stream",
     "text": [
      "9\n"
     ]
    }
   ],
   "source": [
    "def square(number):\n",
    "    return number ** 2\n",
    "result = square(3)\n",
    "print(result)"
   ]
  },
  {
   "cell_type": "code",
   "execution_count": 5,
   "id": "df82c4a1-9456-468d-bfed-2ee9bca4a6b9",
   "metadata": {},
   "outputs": [
    {
     "name": "stdout",
     "output_type": "stream",
     "text": [
      "7\n"
     ]
    }
   ],
   "source": [
    "def addTwoNumber(num1,num2):\n",
    "    return num1 + num2\n",
    "result = addTwoNumber(3,4)\n",
    "print(result)"
   ]
  },
  {
   "cell_type": "code",
   "execution_count": 9,
   "id": "dae67424-dbc7-45c8-ba54-aee63407ff7b",
   "metadata": {},
   "outputs": [
    {
     "name": "stdout",
     "output_type": "stream",
     "text": [
      "24\n",
      "aaaaaaa\n",
      "bbbbbbbb\n"
     ]
    }
   ],
   "source": [
    "def multiply(p1,p2):\n",
    "    return p1*p2\n",
    "print(multiply(3,8))\n",
    "print(multiply('a',7))\n",
    "print(multiply(8,'b'))"
   ]
  },
  {
   "cell_type": "code",
   "execution_count": 13,
   "id": "5b906e62-1dd0-4eeb-a5af-a9b74d992d68",
   "metadata": {},
   "outputs": [
    {
     "name": "stdout",
     "output_type": "stream",
     "text": [
      "area : 50.26548245743669 circumferece : 25.132741228718345\n"
     ]
    }
   ],
   "source": [
    "import math\n",
    "def circle_stats(radius):\n",
    "    area = math.pi * radius ** 2\n",
    "    circumference = 2 * math.pi * radius\n",
    "    return area,circumference\n",
    "    #print(\"hii\")\n",
    "a,c = circle_stats(4)\n",
    "print(\"area :\",a,\"circumferece :\",c)"
   ]
  },
  {
   "cell_type": "code",
   "execution_count": 19,
   "id": "5df7da92-cb2c-43a0-9e21-2cee2cfa2ce2",
   "metadata": {},
   "outputs": [
    {
     "name": "stdout",
     "output_type": "stream",
     "text": [
      "Hello Aditya !\n"
     ]
    }
   ],
   "source": [
    "# Default Parameter value\n",
    "def greet(name=\"user\"):\n",
    "    return \"Hello \" + name + \" !\"\n",
    "print(greet(\"Aditya\"))"
   ]
  },
  {
   "cell_type": "code",
   "execution_count": 22,
   "id": "68e6fd26-1472-42cf-9044-8144a7f4b6fa",
   "metadata": {},
   "outputs": [
    {
     "name": "stdout",
     "output_type": "stream",
     "text": [
      "108\n",
      "380\n"
     ]
    }
   ],
   "source": [
    "def sum_all(*args):\n",
    "    return sum(args)\n",
    "print(sum_all(33,75))\n",
    "print(sum_all(45,54,65,65,76,75))"
   ]
  },
  {
   "cell_type": "code",
   "execution_count": 26,
   "id": "934663ab-852f-4362-92f8-045c4f3ee5de",
   "metadata": {},
   "outputs": [
    {
     "name": "stdout",
     "output_type": "stream",
     "text": [
      "2\n",
      "4\n",
      "6\n",
      "8\n",
      "10\n"
     ]
    }
   ],
   "source": [
    "def even_generator(limit):\n",
    "    for i in range(2,limit + 1,2):\n",
    "        yield i\n",
    "\n",
    "for i in even_generator(10):\n",
    "    print(i)"
   ]
  },
  {
   "cell_type": "code",
   "execution_count": 31,
   "id": "bf75b51c-50d4-4835-be62-365f0acef197",
   "metadata": {},
   "outputs": [
    {
     "name": "stdout",
     "output_type": "stream",
     "text": [
      "120\n"
     ]
    }
   ],
   "source": [
    "#factorial of a number\n",
    "def fact(num):\n",
    "    if num == 0:\n",
    "        return 1\n",
    "    else:\n",
    "        return num * fact(num-1)\n",
    "    \n",
    " \n",
    "print(fact(5))"
   ]
  },
  {
   "cell_type": "code",
   "execution_count": null,
   "id": "27211837-75b1-4f58-a9d6-c3c91f905b01",
   "metadata": {},
   "outputs": [],
   "source": []
  },
  {
   "cell_type": "code",
   "execution_count": null,
   "id": "7d70a9f3-e193-47e3-b363-fe7b831af6b8",
   "metadata": {},
   "outputs": [],
   "source": []
  },
  {
   "cell_type": "code",
   "execution_count": null,
   "id": "963afd66-7b82-48f3-a177-2df1215bce12",
   "metadata": {},
   "outputs": [],
   "source": []
  },
  {
   "cell_type": "code",
   "execution_count": null,
   "id": "6f499a37-2c4f-4403-99b5-4b98091c5169",
   "metadata": {},
   "outputs": [],
   "source": []
  },
  {
   "cell_type": "code",
   "execution_count": null,
   "id": "c8d61aae-0a2a-43ac-abc8-f3a19a34d4e7",
   "metadata": {},
   "outputs": [],
   "source": []
  },
  {
   "cell_type": "code",
   "execution_count": null,
   "id": "f1782001-b4ff-4f75-a36b-60fd54407981",
   "metadata": {},
   "outputs": [],
   "source": []
  },
  {
   "cell_type": "code",
   "execution_count": null,
   "id": "7650325d-8f88-480d-ba28-d2983d20ee41",
   "metadata": {},
   "outputs": [],
   "source": []
  }
 ],
 "metadata": {
  "kernelspec": {
   "display_name": "Python 3 (ipykernel)",
   "language": "python",
   "name": "python3"
  },
  "language_info": {
   "codemirror_mode": {
    "name": "ipython",
    "version": 3
   },
   "file_extension": ".py",
   "mimetype": "text/x-python",
   "name": "python",
   "nbconvert_exporter": "python",
   "pygments_lexer": "ipython3",
   "version": "3.11.7"
  }
 },
 "nbformat": 4,
 "nbformat_minor": 5
}
