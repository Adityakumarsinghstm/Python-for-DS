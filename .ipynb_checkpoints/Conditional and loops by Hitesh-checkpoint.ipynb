{
 "cells": [
  {
   "cell_type": "code",
   "execution_count": 7,
   "id": "efef14af-7518-4fd9-a92a-5a3ca8234349",
   "metadata": {},
   "outputs": [
    {
     "name": "stdin",
     "output_type": "stream",
     "text": [
      "Enter the age -23\n"
     ]
    },
    {
     "name": "stdout",
     "output_type": "stream",
     "text": [
      "Child\n"
     ]
    }
   ],
   "source": [
    "#problem 1\n",
    "# Age Group Categorization\n",
    "\n",
    "age = int(input(\"Enter the age\"))\n",
    "if age<13:\n",
    "    print(\"Child\")\n",
    "elif age<20:\n",
    "    print(\"Teenager\")\n",
    "elif age<60:\n",
    "    print(\"Adult\")\n",
    "else:\n",
    "    print(\"Senior\")"
   ]
  },
  {
   "cell_type": "code",
   "execution_count": 10,
   "id": "4152ff0c-fcc7-46e4-8d22-bc90ee28022a",
   "metadata": {},
   "outputs": [
    {
     "name": "stdin",
     "output_type": "stream",
     "text": [
      "Enter the age 23\n",
      "Enter the day wednesday\n"
     ]
    },
    {
     "ename": "NameError",
     "evalue": "name 'wednesday' is not defined",
     "output_type": "error",
     "traceback": [
      "\u001b[1;31m---------------------------------------------------------------------------\u001b[0m",
      "\u001b[1;31mNameError\u001b[0m                                 Traceback (most recent call last)",
      "Cell \u001b[1;32mIn[10], line 11\u001b[0m\n\u001b[0;32m      9\u001b[0m         \u001b[38;5;28mprint\u001b[39m(\u001b[38;5;124m\"\u001b[39m\u001b[38;5;124m8$ ticket price\u001b[39m\u001b[38;5;124m\"\u001b[39m)\n\u001b[0;32m     10\u001b[0m \u001b[38;5;28;01melse\u001b[39;00m:\n\u001b[1;32m---> 11\u001b[0m     \u001b[38;5;28;01mif\u001b[39;00m day\u001b[38;5;241m==\u001b[39mwednesday:\n\u001b[0;32m     12\u001b[0m         \u001b[38;5;28mprint\u001b[39m(\u001b[38;5;124m\"\u001b[39m\u001b[38;5;124m10$ ticket price\u001b[39m\u001b[38;5;124m\"\u001b[39m)\n\u001b[0;32m     13\u001b[0m     \u001b[38;5;28;01melse\u001b[39;00m :\n",
      "\u001b[1;31mNameError\u001b[0m: name 'wednesday' is not defined"
     ]
    }
   ],
   "source": [
    "# Problem 2\n",
    "# Movie ticket Pricing\n",
    "age = int(input(\"Enter the age\"))\n",
    "day = input(\"Enter the day\")\n",
    "name_day = \"wednesday\"\n",
    "if age<18:\n",
    "    if day==name_day:\n",
    "        print(\"6$ ticket price\")\n",
    "    else :\n",
    "        print(\"8$ ticket price\")\n",
    "else:\n",
    "    if day==name_day:\n",
    "        print(\"10$ ticket price\")\n",
    "    else :\n",
    "        print(\"12$ ticket price\")"
   ]
  },
  {
   "cell_type": "code",
   "execution_count": null,
   "id": "f911c600-e912-4012-abca-c4d715ebaa43",
   "metadata": {},
   "outputs": [],
   "source": []
  },
  {
   "cell_type": "code",
   "execution_count": null,
   "id": "d74f92e7-5dda-4da4-8f1a-5d0cf55ad4a6",
   "metadata": {},
   "outputs": [],
   "source": []
  },
  {
   "cell_type": "code",
   "execution_count": null,
   "id": "718c4809-259f-4866-9897-28a152d305df",
   "metadata": {},
   "outputs": [],
   "source": []
  },
  {
   "cell_type": "code",
   "execution_count": null,
   "id": "ca3c572f-ca69-41ed-b355-2f295d972108",
   "metadata": {},
   "outputs": [],
   "source": []
  }
 ],
 "metadata": {
  "kernelspec": {
   "display_name": "Python 3 (ipykernel)",
   "language": "python",
   "name": "python3"
  },
  "language_info": {
   "codemirror_mode": {
    "name": "ipython",
    "version": 3
   },
   "file_extension": ".py",
   "mimetype": "text/x-python",
   "name": "python",
   "nbconvert_exporter": "python",
   "pygments_lexer": "ipython3",
   "version": "3.11.7"
  }
 },
 "nbformat": 4,
 "nbformat_minor": 5
}
