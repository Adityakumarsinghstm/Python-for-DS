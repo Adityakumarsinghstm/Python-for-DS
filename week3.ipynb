{
 "cells": [
  {
   "cell_type": "markdown",
   "id": "f5b01f8d-f6a4-4a28-a7c7-403790e7cafc",
   "metadata": {},
   "source": [
    "## Continue Statement"
   ]
  },
  {
   "cell_type": "code",
   "execution_count": 2,
   "id": "05d5ebfe-eb9b-4650-8f21-be4271645995",
   "metadata": {},
   "outputs": [
    {
     "name": "stdout",
     "output_type": "stream",
     "text": [
      "i =  0\n",
      "i =  1\n",
      "i =  2\n",
      "i =  3\n",
      "i =  4\n",
      "i =  5\n",
      "i =  6\n",
      "i =  8\n",
      "i =  9\n"
     ]
    }
   ],
   "source": [
    "for i in range(0,10):\n",
    "    if i == 7 :\n",
    "        continue\n",
    "    print('i = ',i)"
   ]
  },
  {
   "cell_type": "markdown",
   "id": "97c07d35-9109-4e0d-a446-926a630d0993",
   "metadata": {},
   "source": [
    "## pass statement\n"
   ]
  },
  {
   "cell_type": "code",
   "execution_count": 4,
   "id": "b14d52ed-5459-4972-8847-c6ee3f0be38f",
   "metadata": {},
   "outputs": [
    {
     "name": "stdin",
     "output_type": "stream",
     "text": [
      "Enter the number 10\n"
     ]
    },
    {
     "name": "stdout",
     "output_type": "stream",
     "text": [
      "Input is not 10\n"
     ]
    }
   ],
   "source": [
    "n = int(input(\"Enter the number\"))\n",
    "if n == 10:\n",
    "    pass\n",
    "print(\"Input is not 10\")"
   ]
  },
  {
   "cell_type": "markdown",
   "id": "3640d990-b17a-4c33-a3a9-a8d43a39ff71",
   "metadata": {},
   "source": [
    "## Else Statement with for loop"
   ]
  },
  {
   "cell_type": "code",
   "execution_count": 6,
   "id": "20ab0e97-616c-4761-91cf-7df4340f508b",
   "metadata": {},
   "outputs": [
    {
     "name": "stdout",
     "output_type": "stream",
     "text": [
      "i =  0\n",
      "i =  1\n",
      "i =  2\n",
      "i =  3\n",
      "i =  4\n",
      "i =  5\n",
      "i =  6\n",
      "i =  7\n",
      "outside the loop\n"
     ]
    }
   ],
   "source": [
    "for i in range(0,10):\n",
    "    print(\"i = \",i)\n",
    "    if i == 7:\n",
    "        break\n",
    "else:\n",
    "    print(\"All statement executed\")\n",
    "print(\"outside the loop\")"
   ]
  },
  {
   "cell_type": "markdown",
   "id": "3d9af8d8-a5b5-4129-88b0-ae41ed38d77f",
   "metadata": {},
   "source": [
    "## Examples"
   ]
  },
  {
   "cell_type": "code",
   "execution_count": 11,
   "id": "cddd64a8-d768-4529-bd12-632b50771448",
   "metadata": {},
   "outputs": [
    {
     "name": "stdin",
     "output_type": "stream",
     "text": [
      "Enter the n 8\n"
     ]
    },
    {
     "name": "stdout",
     "output_type": "stream",
     "text": [
      "Invalid number of n \n"
     ]
    }
   ],
   "source": [
    "# write a programe to accept and integer greater than 10 and print all the even number between them\n",
    "n = int(input(\"Enter the n\"))\n",
    "if n>10:\n",
    "    for i in range(1,n+1):\n",
    "        if i%2==0:\n",
    "            print (i)\n",
    "print(\"Invalid number of n \")"
   ]
  },
  {
   "cell_type": "code",
   "execution_count": 20,
   "id": "74d5e06b-4304-470d-aa04-709d15d135c9",
   "metadata": {},
   "outputs": [
    {
     "name": "stdin",
     "output_type": "stream",
     "text": [
      "Enter the value of n 23\n"
     ]
    },
    {
     "name": "stdout",
     "output_type": "stream",
     "text": [
      "number is prime\n"
     ]
    }
   ],
   "source": [
    "# chek the number is prime or not\n",
    "n = int(input(\"Enter the value of n\"))\n",
    "for i in range(2,n):\n",
    "    if n%i == 0:\n",
    "        print(\"Number is not prime \")\n",
    "        break\n",
    "else:\n",
    "        print (\"number is prime\")"
   ]
  },
  {
   "cell_type": "code",
   "execution_count": 24,
   "id": "55125423-ad0d-4fa1-a1b7-9184d039fcbe",
   "metadata": {},
   "outputs": [
    {
     "name": "stdin",
     "output_type": "stream",
     "text": [
      "Enter the string 12\n"
     ]
    },
    {
     "name": "stdout",
     "output_type": "stream",
     "text": [
      "String is not palindrome\n"
     ]
    }
   ],
   "source": [
    "# Check whether a string is palindrome or not\n",
    "str1 = input(\"Enter the string\")\n",
    "rev = str1[::-1]\n",
    "for i in range(len(str1)):\n",
    "    if str1[i] != rev[i]:\n",
    "        print(\"String is not palindrome\")\n",
    "        break\n",
    "else:\n",
    "    print(\"String is palindrome\")"
   ]
  },
  {
   "cell_type": "code",
   "execution_count": 25,
   "id": "b0b3f8ac-b21a-443a-a106-50a2ba845e83",
   "metadata": {},
   "outputs": [
    {
     "name": "stdin",
     "output_type": "stream",
     "text": [
      "Enter the sentence I am a backend developer and still unplaced\n"
     ]
    },
    {
     "name": "stdout",
     "output_type": "stream",
     "text": [
      "The total number of space present in sentence : 7\n"
     ]
    }
   ],
   "source": [
    "# count the number of spaces in a sentence\n",
    "str1 = input(\"Enter the sentence\")\n",
    "count = 0\n",
    "for i in str1:\n",
    "    if i.isspace():\n",
    "        count += 1\n",
    "print('The total number of space present in sentence :',count)"
   ]
  },
  {
   "cell_type": "code",
   "execution_count": 29,
   "id": "ae1b36b4-7c44-449e-b286-e3a3726d28c2",
   "metadata": {},
   "outputs": [
    {
     "name": "stdin",
     "output_type": "stream",
     "text": [
      "Enter the sentence we are Bihari, with 8 boys\n"
     ]
    },
    {
     "name": "stdout",
     "output_type": "stream",
     "text": [
      "the number of spaces present in sentence : 5\n",
      "the number of lower character present in sentence : 18\n",
      "the number of upper character present in sentence : 1\n",
      "the number of digits present in sentence : 1\n"
     ]
    }
   ],
   "source": [
    "# space\n",
    "# lower\n",
    "# upper\n",
    "# digits\n",
    "str = input(\"Enter the sentence\")\n",
    "space = 0\n",
    "lower = 0\n",
    "upper = 0\n",
    "digits = 0\n",
    "for i in str:\n",
    "    if i.isspace():\n",
    "        space += 1\n",
    "    elif i.islower():\n",
    "        lower += 1\n",
    "    elif i.isupper():\n",
    "        upper += 1\n",
    "    elif i.isdigit():\n",
    "        digits += 1\n",
    "print(\"the number of spaces present in sentence :\",space)\n",
    "print(\"the number of lower character present in sentence :\",lower)\n",
    "print(\"the number of upper character present in sentence :\",upper)\n",
    "print(\"the number of digits present in sentence :\",digits)"
   ]
  },
  {
   "cell_type": "markdown",
   "id": "a24f26b5-d295-48fe-a668-611784de9067",
   "metadata": {},
   "source": [
    "# check wheter a multi-word string is palindrome or not\n",
    "str1 = input(\"Enter the string\")\n",
    "str2 = str1.replace(' ','')\n",
    "rev = str2[::-1]\n",
    "for i in range(len(str2)):\n",
    "    if str2[i] != rev[i]:\n",
    "        print(st2, 'is not a palindrome')\n",
    "        break\n",
    "else:\n",
    "    print(str2,' is palindrome')"
   ]
  },
  {
   "cell_type": "markdown",
   "id": "3c7a52f1-9385-437b-a725-7c08abba18a4",
   "metadata": {},
   "source": [
    "## Console Input"
   ]
  },
  {
   "cell_type": "code",
   "execution_count": 34,
   "id": "cb2b84f5-0bdb-4cc5-bc3c-504a3df29636",
   "metadata": {},
   "outputs": [
    {
     "name": "stdin",
     "output_type": "stream",
     "text": [
      "Enter the value of a, b, and c 23 45 78\n"
     ]
    },
    {
     "name": "stdout",
     "output_type": "stream",
     "text": [
      "23   45   78\n"
     ]
    }
   ],
   "source": [
    "a,b,c = input(\"Enter the value of a, b, and c\").split()\n",
    "print(a,' ',b,' ',c)"
   ]
  },
  {
   "cell_type": "code",
   "execution_count": 40,
   "id": "422ad4c0-d2dd-4fae-bcbd-32b292394473",
   "metadata": {},
   "outputs": [
    {
     "name": "stdin",
     "output_type": "stream",
     "text": [
      "Enter the value of a,b,c 12 34 67\n"
     ]
    },
    {
     "name": "stdout",
     "output_type": "stream",
     "text": [
      "12:34:67\tthis is the new statement\n"
     ]
    }
   ],
   "source": [
    "a,b,c = input(\"Enter the value of a,b,c\").split()\n",
    "print(a,b,c,sep=\":\",end=\"\\t\")\n",
    "print('this is the new statement')"
   ]
  },
  {
   "cell_type": "code",
   "execution_count": null,
   "id": "e46351ce-45a7-4ae7-a536-7d14fbb709ad",
   "metadata": {},
   "outputs": [],
   "source": []
  },
  {
   "cell_type": "code",
   "execution_count": null,
   "id": "4b20a970-d990-42ee-9e6e-dde7b34c7f9c",
   "metadata": {},
   "outputs": [],
   "source": []
  },
  {
   "cell_type": "code",
   "execution_count": null,
   "id": "1f5f27fe-d990-4d34-9d96-c968a1d03665",
   "metadata": {},
   "outputs": [],
   "source": []
  },
  {
   "cell_type": "code",
   "execution_count": null,
   "id": "de306459-36fa-4beb-bd0e-d47be80931fa",
   "metadata": {},
   "outputs": [],
   "source": []
  },
  {
   "cell_type": "code",
   "execution_count": null,
   "id": "71f31943-5360-44de-b17b-9b03c408e883",
   "metadata": {},
   "outputs": [],
   "source": []
  },
  {
   "cell_type": "code",
   "execution_count": null,
   "id": "7eb84325-09b3-42aa-9ea7-13b7e694712d",
   "metadata": {},
   "outputs": [],
   "source": []
  },
  {
   "cell_type": "code",
   "execution_count": null,
   "id": "df102867-95e6-44f7-9d71-957d847f559a",
   "metadata": {},
   "outputs": [],
   "source": []
  }
 ],
 "metadata": {
  "kernelspec": {
   "display_name": "Python 3 (ipykernel)",
   "language": "python",
   "name": "python3"
  },
  "language_info": {
   "codemirror_mode": {
    "name": "ipython",
    "version": 3
   },
   "file_extension": ".py",
   "mimetype": "text/x-python",
   "name": "python",
   "nbconvert_exporter": "python",
   "pygments_lexer": "ipython3",
   "version": "3.11.7"
  }
 },
 "nbformat": 4,
 "nbformat_minor": 5
}
