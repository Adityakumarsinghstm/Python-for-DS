{
 "cells": [
  {
   "cell_type": "code",
   "execution_count": 6,
   "id": "80f56fd7-ef57-4d99-81c5-ede24ed7ff1b",
   "metadata": {},
   "outputs": [],
   "source": [
    "class Evens:\n",
    "    def __init__(self,l):\n",
    "        self._val = 0\n",
    "        self._limit = l\n",
    "        \n",
    "    def __iter__(self):\n",
    "        return self\n",
    "        \n",
    "    def __next__(self):\n",
    "        if self._val > self._limit:\n",
    "            raise StopIteration\n",
    "        else :\n",
    "            return_val = self._val\n",
    "            self._val += 2\n",
    "            return return_val"
   ]
  },
  {
   "cell_type": "code",
   "execution_count": 7,
   "id": "90c3616a-ed58-48c7-bd08-84912a7e5e0a",
   "metadata": {},
   "outputs": [
    {
     "name": "stdout",
     "output_type": "stream",
     "text": [
      "Start iterator\n",
      "i =  0\n",
      "i =  2\n",
      "i =  4\n",
      "i =  6\n",
      "i =  8\n",
      "i =  10\n",
      "i =  12\n",
      "i =  14\n",
      "i =  16\n",
      "i =  18\n",
      "i =  20\n",
      "End iterator\n"
     ]
    }
   ],
   "source": [
    "print(\"Start iterator\")\n",
    "for i in Evens(20):\n",
    "    print(\"i = \",i)\n",
    "print(\"End iterator\")"
   ]
  },
  {
   "cell_type": "code",
   "execution_count": 17,
   "id": "588a69b4-5259-48c0-a798-9a35995e5142",
   "metadata": {},
   "outputs": [],
   "source": [
    "# find the factorial of a number using itrators\n",
    "\n",
    "class Fact:\n",
    "    def __init__(self,l):\n",
    "        self._val = 0\n",
    "        self._limit = l\n",
    "    def __iter__(self):\n",
    "        return self\n",
    "    def fact(self,num):\n",
    "        podt = 1\n",
    "        for i in range(1,num+1):\n",
    "            podt *= i\n",
    "        return podt\n",
    "    def __next__(self):\n",
    "        if self._val>self._limit:\n",
    "            raise StopIteration\n",
    "        else:\n",
    "            return_val = self.fact(self._val)\n",
    "            self._val += 1\n",
    "            return return_val\n",
    "            "
   ]
  },
  {
   "cell_type": "code",
   "execution_count": 18,
   "id": "09948ea2-9ea4-446d-abef-acc8f144abc5",
   "metadata": {},
   "outputs": [
    {
     "name": "stdout",
     "output_type": "stream",
     "text": [
      "starting the factorial series\n"
     ]
    },
    {
     "name": "stdin",
     "output_type": "stream",
     "text": [
      "Enter the number for which you want factorial 5\n"
     ]
    },
    {
     "name": "stdout",
     "output_type": "stream",
     "text": [
      "factorial =  1\n",
      "factorial =  1\n",
      "factorial =  2\n",
      "factorial =  6\n",
      "factorial =  24\n",
      "factorial =  120\n",
      "stop the factorial series\n"
     ]
    }
   ],
   "source": [
    "print(\"starting the factorial series\")\n",
    "n = int(input(\"Enter the number for which you want factorial\"))\n",
    "for i in Fact(5):\n",
    "    print(\"factorial = \",i)\n",
    "print(\"stop the factorial series\")"
   ]
  },
  {
   "cell_type": "markdown",
   "id": "3e446c0e-76b4-4fd0-a8f2-af4acbc58097",
   "metadata": {},
   "source": [
    "# Exceptions\n"
   ]
  },
  {
   "cell_type": "code",
   "execution_count": 21,
   "id": "1d0ad0fe-4a85-47cb-aa18-a721debb6414",
   "metadata": {},
   "outputs": [],
   "source": [
    "def runcalc(num):\n",
    "    num/2\n",
    "try:\n",
    "    runcalc(6)\n",
    "except ZeroDivisionError as z:\n",
    "    print(z,\" error has occured\")\n",
    "except IndexError as i:\n",
    "    print(i,\" error has occured\")\n",
    "except FileNotFoundError as f:\n",
    "    print(f,\" error has occured\")\n",
    "except Exception:\n",
    "    print(\"unknown error\")\n",
    "    \n",
    "    "
   ]
  },
  {
   "cell_type": "code",
   "execution_count": 4,
   "id": "a91cd2ae-836f-49d4-9459-2bb7893097f0",
   "metadata": {},
   "outputs": [],
   "source": [
    "def my_function(x,y):\n",
    "    print(\"Starting the function....\")\n",
    "    res = x/y\n",
    "    print(\"Ending the function....\")\n",
    "    return res\n",
    "    "
   ]
  },
  {
   "cell_type": "code",
   "execution_count": 5,
   "id": "92b471cd-66b5-4456-ab4c-cca4153da5dc",
   "metadata": {},
   "outputs": [
    {
     "name": "stdout",
     "output_type": "stream",
     "text": [
      "Before excuting the function\n",
      "Starting the function....\n",
      "Ending the function....\n",
      "3.0\n",
      "End\n"
     ]
    }
   ],
   "source": [
    "print(\"Before excuting the function\")\n",
    "try:\n",
    "    result = my_function(6,2)\n",
    "    print(result)\n",
    "except ZeroDivisionError as z:\n",
    "    print(z, \"exception has occured\")\n",
    "print(\"End\")"
   ]
  },
  {
   "cell_type": "markdown",
   "id": "93aa612e-a087-42f6-80cf-7c2e33f660b1",
   "metadata": {},
   "source": [
    "# Assertion\n"
   ]
  },
  {
   "cell_type": "code",
   "execution_count": 6,
   "id": "d0781f93-8b58-43fa-89ac-958906b6b34e",
   "metadata": {},
   "outputs": [
    {
     "name": "stdout",
     "output_type": "stream",
     "text": [
      "Starting the function....\n",
      "Ending the function....\n"
     ]
    },
    {
     "data": {
      "text/plain": [
       "1.4"
      ]
     },
     "execution_count": 6,
     "metadata": {},
     "output_type": "execute_result"
    }
   ],
   "source": [
    "x = 7\n",
    "y = 5\n",
    "\n",
    "assert y != 0\n",
    "my_function(x,y)"
   ]
  },
  {
   "cell_type": "code",
   "execution_count": null,
   "id": "f8efeae1-e8bf-4bb1-85bf-8a427e3b2682",
   "metadata": {},
   "outputs": [],
   "source": []
  },
  {
   "cell_type": "code",
   "execution_count": null,
   "id": "e5ba2780-1762-4a1d-bb76-523c3e8cc6f7",
   "metadata": {},
   "outputs": [],
   "source": []
  },
  {
   "cell_type": "code",
   "execution_count": null,
   "id": "629a1724-79bf-41ef-ac6c-8ebb26b74cf0",
   "metadata": {},
   "outputs": [],
   "source": []
  },
  {
   "cell_type": "code",
   "execution_count": null,
   "id": "7d15dfa5-77aa-44fe-930a-d5877ef49975",
   "metadata": {},
   "outputs": [],
   "source": []
  },
  {
   "cell_type": "code",
   "execution_count": null,
   "id": "9c1bd62d-6c47-4c62-ae11-c31fe7a66e7c",
   "metadata": {},
   "outputs": [],
   "source": []
  },
  {
   "cell_type": "code",
   "execution_count": null,
   "id": "2132c4f5-34d0-48fa-b0ce-a70ddbe6e4eb",
   "metadata": {},
   "outputs": [],
   "source": []
  },
  {
   "cell_type": "code",
   "execution_count": null,
   "id": "557cd488-2b1e-4b51-9991-12d8cb2802b9",
   "metadata": {},
   "outputs": [],
   "source": []
  },
  {
   "cell_type": "code",
   "execution_count": null,
   "id": "21f29749-30cd-4c22-bd2b-1333a1604910",
   "metadata": {},
   "outputs": [],
   "source": []
  }
 ],
 "metadata": {
  "kernelspec": {
   "display_name": "Python 3 (ipykernel)",
   "language": "python",
   "name": "python3"
  },
  "language_info": {
   "codemirror_mode": {
    "name": "ipython",
    "version": 3
   },
   "file_extension": ".py",
   "mimetype": "text/x-python",
   "name": "python",
   "nbconvert_exporter": "python",
   "pygments_lexer": "ipython3",
   "version": "3.11.7"
  }
 },
 "nbformat": 4,
 "nbformat_minor": 5
}
