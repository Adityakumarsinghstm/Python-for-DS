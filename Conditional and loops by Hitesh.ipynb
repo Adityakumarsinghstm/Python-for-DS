{
 "cells": [
  {
   "cell_type": "code",
   "execution_count": 7,
   "id": "efef14af-7518-4fd9-a92a-5a3ca8234349",
   "metadata": {},
   "outputs": [
    {
     "name": "stdin",
     "output_type": "stream",
     "text": [
      "Enter the age -23\n"
     ]
    },
    {
     "name": "stdout",
     "output_type": "stream",
     "text": [
      "Child\n"
     ]
    }
   ],
   "source": [
    "#problem 1\n",
    "# Age Group Categorization\n",
    "\n",
    "age = int(input(\"Enter the age\"))\n",
    "if age<13:\n",
    "    print(\"Child\")\n",
    "elif age<20:\n",
    "    print(\"Teenager\")\n",
    "elif age<60:\n",
    "    print(\"Adult\")\n",
    "else:\n",
    "    print(\"Senior\")"
   ]
  },
  {
   "cell_type": "code",
   "execution_count": 14,
   "id": "4152ff0c-fcc7-46e4-8d22-bc90ee28022a",
   "metadata": {},
   "outputs": [
    {
     "name": "stdin",
     "output_type": "stream",
     "text": [
      "Enter the age 39\n"
     ]
    },
    {
     "name": "stdout",
     "output_type": "stream",
     "text": [
      "the price of movie ticket is $ 10\n"
     ]
    }
   ],
   "source": [
    "# Problem 2\n",
    "# Movie ticket Pricing\n",
    "age = int(input(\"Enter the age\"))\n",
    "day = \"wednesday\"\n",
    "price = 12 if age >= 18 else 8\n",
    "if day == \"wednesday\":\n",
    "    price = price - 2\n",
    "print (\"the price of movie ticket is $\",price)"
   ]
  },
  {
   "cell_type": "code",
   "execution_count": 17,
   "id": "f911c600-e912-4012-abca-c4d715ebaa43",
   "metadata": {},
   "outputs": [
    {
     "name": "stdin",
     "output_type": "stream",
     "text": [
      "Enter the score 70\n"
     ]
    },
    {
     "name": "stdout",
     "output_type": "stream",
     "text": [
      "C Grade\n"
     ]
    }
   ],
   "source": [
    "# problem 3 \n",
    "# Grade Calculator\n",
    "score = int(input(\"Enter the score\"))\n",
    "if score < 60:\n",
    "    print(\"fail\")\n",
    "elif score < 70:\n",
    "    print(\"D grade\")\n",
    "elif score < 80:\n",
    "    print(\"C Grade\")\n",
    "elif score < 90:\n",
    "    print (\"B Grade\")\n",
    "elif score <= 100:\n",
    "    print(\"A Grade\")\n",
    "else :\n",
    "    print(\"Enter valid score\")\n",
    "    "
   ]
  },
  {
   "cell_type": "code",
   "execution_count": 21,
   "id": "d74f92e7-5dda-4da4-8f1a-5d0cf55ad4a6",
   "metadata": {},
   "outputs": [
    {
     "name": "stdin",
     "output_type": "stream",
     "text": [
      "Enter the color maroon\n"
     ]
    },
    {
     "name": "stdout",
     "output_type": "stream",
     "text": [
      "Please use valid color\n"
     ]
    }
   ],
   "source": [
    "#problem 4\n",
    "# Fruit ripeness cheker\n",
    "color = input(\"Enter the color\")\n",
    "if color==\"green\":\n",
    "    print(\"fruit is unripe\")\n",
    "elif color == \"yellow\":\n",
    "    print(\"fruit is ripe\")\n",
    "elif color == \"brown\":\n",
    "    print(\"fruit is overripe\")\n",
    "else :\n",
    "    print(\"Please use valid color\")\n",
    "    \n"
   ]
  },
  {
   "cell_type": "code",
   "execution_count": 25,
   "id": "718c4809-259f-4866-9897-28a152d305df",
   "metadata": {},
   "outputs": [
    {
     "name": "stdin",
     "output_type": "stream",
     "text": [
      "Enter the weather Rainy\n"
     ]
    },
    {
     "name": "stdout",
     "output_type": "stream",
     "text": [
      "Read a book\n"
     ]
    }
   ],
   "source": [
    "# problem 5\n",
    "# suggest an activity based on the weather season\n",
    "weather = input(\"Enter the weather\")\n",
    "weather = weather.lower()\n",
    "\n",
    "if weather == \"sunny\":\n",
    "    print(\"Go for a walk\")\n",
    "elif weather == \"rainy\":\n",
    "    print(\"Read a book\")\n",
    "elif weather == \"snowy\":\n",
    "    print(\"Build a snowman\")\n",
    "else :\n",
    "    print(\"In other season you should focus on health\")"
   ]
  },
  {
   "cell_type": "code",
   "execution_count": 28,
   "id": "ca3c572f-ca69-41ed-b355-2f295d972108",
   "metadata": {},
   "outputs": [
    {
     "name": "stdin",
     "output_type": "stream",
     "text": [
      "Enter the disctance in KM 2\n"
     ]
    },
    {
     "name": "stdout",
     "output_type": "stream",
     "text": [
      "Walk\n"
     ]
    }
   ],
   "source": [
    "# problem 6\n",
    "# Transportation mode selection\n",
    "distance = int(input(\"Enter the disctance in KM\"))\n",
    "if distance < 3 :\n",
    "    print(\"Walk\")\n",
    "elif distance < 15:\n",
    "    print(\"Bike\")\n",
    "else :\n",
    "    print(\"car\")"
   ]
  },
  {
   "cell_type": "code",
   "execution_count": 34,
   "id": "6320a416-aaea-4267-8991-bb3bac5edd46",
   "metadata": {},
   "outputs": [
    {
     "name": "stdout",
     "output_type": "stream",
     "text": [
      "medium size coffee with extra shot\n"
     ]
    }
   ],
   "source": [
    "# problem 7\n",
    "# Coffe customization\n",
    "coffee_size = \"medium\"\n",
    "extra_shot = True\n",
    "if extra_shot:\n",
    "    coffee = coffee_size + \" size coffee with extra shot\"\n",
    "else:\n",
    "    coffee = coffee_size + \" size coffee\"\n",
    "print(coffee)\n"
   ]
  },
  {
   "cell_type": "code",
   "execution_count": null,
   "id": "12bb0f67-bbd6-4df3-94ba-77d66446de8e",
   "metadata": {},
   "outputs": [],
   "source": []
  },
  {
   "cell_type": "code",
   "execution_count": 38,
   "id": "86d6be4b-69ec-4868-8907-ba5c71246cf9",
   "metadata": {},
   "outputs": [
    {
     "name": "stdin",
     "output_type": "stream",
     "text": [
      "Enter the password aditya kumar singh\n"
     ]
    },
    {
     "name": "stdout",
     "output_type": "stream",
     "text": [
      "password is strong\n"
     ]
    }
   ],
   "source": [
    "# problem 8\n",
    "# password stength checker\n",
    "password = input(\"Enter the password\")\n",
    "length = len(password)\n",
    "if length < 6:\n",
    "    print(\"Password is week\")\n",
    "elif length <= 10:\n",
    "    print(\"Passwor is medium\")\n",
    "else :\n",
    "    print(\"password is strong\")"
   ]
  },
  {
   "cell_type": "code",
   "execution_count": 45,
   "id": "16f29d30-17ec-4de7-b4ed-51f9ea01c3bc",
   "metadata": {},
   "outputs": [
    {
     "name": "stdin",
     "output_type": "stream",
     "text": [
      "Enter the year 2023\n"
     ]
    },
    {
     "name": "stdout",
     "output_type": "stream",
     "text": [
      "This year is not a leap year\n"
     ]
    }
   ],
   "source": [
    "# problem 9\n",
    "# check the leap year\n",
    "year = int(input(\"Enter the year\"))\n",
    "if (year % 400 ==0) or (year % 4 == 0 and year % 100 != 0):\n",
    "    print (\"This year is a leap year\")\n",
    "else :\n",
    "    print (\"This year is not a leap year\")"
   ]
  },
  {
   "cell_type": "code",
   "execution_count": null,
   "id": "e689f324-f139-4685-850c-ba20ebbc2e10",
   "metadata": {},
   "outputs": [],
   "source": []
  },
  {
   "cell_type": "code",
   "execution_count": null,
   "id": "5fb023ca-7be3-424b-b6bb-19e68bf1032d",
   "metadata": {},
   "outputs": [],
   "source": []
  },
  {
   "cell_type": "code",
   "execution_count": null,
   "id": "7dff0601-1db8-428f-80d2-6e1bcb0b51f5",
   "metadata": {},
   "outputs": [],
   "source": []
  },
  {
   "cell_type": "code",
   "execution_count": null,
   "id": "0524bc6b-21a2-4de9-82f2-7d45459e6581",
   "metadata": {},
   "outputs": [],
   "source": []
  },
  {
   "cell_type": "code",
   "execution_count": null,
   "id": "4188796d-553e-4e52-8248-32ca401b5f37",
   "metadata": {},
   "outputs": [],
   "source": []
  },
  {
   "cell_type": "code",
   "execution_count": null,
   "id": "84f0fdf1-c7ae-4ace-a0a3-261fff4e6cb7",
   "metadata": {},
   "outputs": [],
   "source": []
  }
 ],
 "metadata": {
  "kernelspec": {
   "display_name": "Python 3 (ipykernel)",
   "language": "python",
   "name": "python3"
  },
  "language_info": {
   "codemirror_mode": {
    "name": "ipython",
    "version": 3
   },
   "file_extension": ".py",
   "mimetype": "text/x-python",
   "name": "python",
   "nbconvert_exporter": "python",
   "pygments_lexer": "ipython3",
   "version": "3.11.7"
  }
 },
 "nbformat": 4,
 "nbformat_minor": 5
}
