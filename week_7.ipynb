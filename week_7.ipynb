{
 "cells": [
  {
   "cell_type": "markdown",
   "id": "387a3ca2-1506-4882-8682-5a1bc00bd351",
   "metadata": {},
   "source": [
    "# Class and Object"
   ]
  },
  {
   "cell_type": "code",
   "execution_count": 1,
   "id": "bd4b665f-2a67-4a29-813d-3b57c850048a",
   "metadata": {},
   "outputs": [],
   "source": [
    "# example of class and object using Employee class\n",
    "class Employee:\n",
    "    def set_data(self,n,a,s):\n",
    "        self._name = n\n",
    "        self._age = a\n",
    "        self._salary = s\n",
    "    def display_data(self):\n",
    "        print(\"name of employee :\",self._name)\n",
    "        print(\"age of employee :\",self._age)\n",
    "        print(\"salary of employee :\",self._salary)"
   ]
  },
  {
   "cell_type": "code",
   "execution_count": 2,
   "id": "3438c4c1-22a2-4cbd-bf87-d55890b7fc03",
   "metadata": {},
   "outputs": [
    {
     "name": "stdout",
     "output_type": "stream",
     "text": [
      "name of employee : aditya\n",
      "age of employee : 22\n",
      "salary of employee : 20000\n",
      "name of employee : Ramu kaka\n",
      "age of employee : 67\n",
      "salary of employee : 500000\n"
     ]
    }
   ],
   "source": [
    "# creating object of employee class\n",
    "e1 = Employee()\n",
    "e1.set_data(\"aditya\",22,20000)\n",
    "e2 = Employee()\n",
    "e2.set_data(\"Ramu kaka\",67,500000)\n",
    "e1.display_data()\n",
    "e2.display_data()"
   ]
  },
  {
   "cell_type": "code",
   "execution_count": 10,
   "id": "b67b9f6a-67c2-4687-91b1-ab99117ea9b8",
   "metadata": {},
   "outputs": [],
   "source": [
    "class Employee1:\n",
    "    def __init__(self,n='',a=0,s=0.0):\n",
    "        self._name = n\n",
    "        self._age = a\n",
    "        self._salary = s\n",
    "        \n",
    "    def set_data(self,n,a,s):\n",
    "        self._name = n\n",
    "        self._age = a\n",
    "        self._salary = s\n",
    "    def display_data(self):\n",
    "        print(\"name of employee :\",self._name)\n",
    "        print(\"age of employee :\",self._age)\n",
    "        print(\"salary of employee :\",self._salary)\n",
    "    def __del__(self):\n",
    "        print(\"Deleting the object \"+str(self))"
   ]
  },
  {
   "cell_type": "code",
   "execution_count": 11,
   "id": "65557cff-0f85-465c-a318-f9809b80c2ab",
   "metadata": {},
   "outputs": [
    {
     "name": "stdout",
     "output_type": "stream",
     "text": [
      "name of employee : Aadi\n",
      "age of employee : 22\n",
      "salary of employee : 30000\n",
      "name of employee : Rakesh\n",
      "age of employee : 23\n",
      "salary of employee : 30000\n"
     ]
    }
   ],
   "source": [
    "e1 = Employee1(\"Aadi\",22,30000)\n",
    "e1.display_data()\n",
    "\n",
    "e2 = Employee1()\n",
    "e2.set_data(\"Rakesh\",23,30000)\n",
    "e2.display_data()"
   ]
  },
  {
   "cell_type": "code",
   "execution_count": 12,
   "id": "e5d07cc9-ce02-41f1-a5aa-250317a50327",
   "metadata": {},
   "outputs": [],
   "source": [
    "class Employee2:\n",
    "    instance_count = 0\n",
    "    def __init__(self,n='',a=0,s=0.0):\n",
    "        self.increase_instance_count()\n",
    "        self._name = n\n",
    "        self._age = a\n",
    "        self._salary = s\n",
    "        \n",
    "    def set_data(self,n,a,s):\n",
    "        self._name = n\n",
    "        self._age = a\n",
    "        self._salary = s\n",
    "    def display_data(self):\n",
    "        print(\"name of employee :\",self._name)\n",
    "        print(\"age of employee :\",self._age)\n",
    "        print(\"salary of employee :\",self._salary)\n",
    "        \n",
    "    @classmethod\n",
    "    def increase_instance_count(cls):\n",
    "        cls.instance_count += 1"
   ]
  },
  {
   "cell_type": "code",
   "execution_count": 13,
   "id": "9d39c330-bae4-4349-a666-e61e028e2e3e",
   "metadata": {},
   "outputs": [
    {
     "name": "stdout",
     "output_type": "stream",
     "text": [
      "Deleting the object <__main__.Employee1 object at 0x00000259E974FE10>\n",
      "Deleting the object <__main__.Employee1 object at 0x00000259E974E410>\n",
      "The number of object of Employee2 class : 2\n"
     ]
    }
   ],
   "source": [
    "e1 = Employee2()\n",
    "e2 = Employee2(\"Aditya\",22,70333)\n",
    "print(\"The number of object of Employee2 class :\",Employee2.instance_count)"
   ]
  },
  {
   "cell_type": "code",
   "execution_count": 15,
   "id": "1a02866f-14b2-4958-b023-62b5b9c490f4",
   "metadata": {},
   "outputs": [
    {
     "data": {
      "text/plain": [
       "mappingproxy({'__module__': '__main__',\n",
       "              '__init__': <function __main__.Employee1.__init__(self, n='', a=0, s=0.0)>,\n",
       "              'set_data': <function __main__.Employee1.set_data(self, n, a, s)>,\n",
       "              'display_data': <function __main__.Employee1.display_data(self)>,\n",
       "              '__del__': <function __main__.Employee1.__del__(self)>,\n",
       "              '__dict__': <attribute '__dict__' of 'Employee1' objects>,\n",
       "              '__weakref__': <attribute '__weakref__' of 'Employee1' objects>,\n",
       "              '__doc__': None})"
      ]
     },
     "execution_count": 15,
     "metadata": {},
     "output_type": "execute_result"
    }
   ],
   "source": [
    "# vars() and dir() functions \n",
    "vars(Employee1)"
   ]
  },
  {
   "cell_type": "code",
   "execution_count": 16,
   "id": "9c1bd7e4-9115-436a-83a9-b683aa639685",
   "metadata": {},
   "outputs": [
    {
     "data": {
      "text/plain": [
       "['__class__',\n",
       " '__delattr__',\n",
       " '__dict__',\n",
       " '__dir__',\n",
       " '__doc__',\n",
       " '__eq__',\n",
       " '__format__',\n",
       " '__ge__',\n",
       " '__getattribute__',\n",
       " '__getstate__',\n",
       " '__gt__',\n",
       " '__hash__',\n",
       " '__init__',\n",
       " '__init_subclass__',\n",
       " '__le__',\n",
       " '__lt__',\n",
       " '__module__',\n",
       " '__ne__',\n",
       " '__new__',\n",
       " '__reduce__',\n",
       " '__reduce_ex__',\n",
       " '__repr__',\n",
       " '__setattr__',\n",
       " '__sizeof__',\n",
       " '__str__',\n",
       " '__subclasshook__',\n",
       " '__weakref__',\n",
       " 'display_data',\n",
       " 'increase_instance_count',\n",
       " 'instance_count',\n",
       " 'set_data']"
      ]
     },
     "execution_count": 16,
     "metadata": {},
     "output_type": "execute_result"
    }
   ],
   "source": [
    "dir(Employee2)"
   ]
  },
  {
   "cell_type": "code",
   "execution_count": 28,
   "id": "8d2bec84-f68e-431e-81f1-f7421e7a35c4",
   "metadata": {},
   "outputs": [],
   "source": [
    "# Implement operator overloading over Quantity class\n",
    "class Quantity:\n",
    "    def __init__(self,v=0):\n",
    "        self._value = v\n",
    "    def __add__(self,other):\n",
    "        new_value = self._value + other._value\n",
    "        return Quantity(new_value)\n",
    "    def __sub__(self,other):\n",
    "        new_value = self._value - other._value\n",
    "        return Quantity(new_value)\n",
    "    def __str__(self):\n",
    "        return str(self._value)"
   ]
  },
  {
   "cell_type": "code",
   "execution_count": 29,
   "id": "48ea9c8c-3e5a-49b8-a679-80e1a5cf18a6",
   "metadata": {},
   "outputs": [
    {
     "name": "stdout",
     "output_type": "stream",
     "text": [
      "q1 12 and q2 34\n",
      "46\n",
      "22\n"
     ]
    }
   ],
   "source": [
    "q1 =  Quantity(12)\n",
    "q2 =  Quantity(34)\n",
    "q3 =  Quantity()\n",
    "\n",
    "print(\"q1\",q1 ,\"and\", \"q2\",q2)\n",
    "q3 = q1 + q2\n",
    "print(q3)\n",
    "q4 = q2 - q1\n",
    "print(q4)"
   ]
  },
  {
   "cell_type": "code",
   "execution_count": 35,
   "id": "936dc5ee-abbc-4b62-9c58-e6d1d116aed4",
   "metadata": {},
   "outputs": [],
   "source": [
    "# An Example to demonstrate Containership\n",
    "class Department:\n",
    "    def set_department(self):\n",
    "        self._id = int(input(\"Enter the id of department\"))\n",
    "        self._name = input(\"Enter the department name\")\n",
    "    def display_department(self):\n",
    "        print(\"Department name :\",self._name)\n",
    "        print(\"Department id :\",self._id)\n",
    "\n",
    "class Employee3:\n",
    "    def set_employee(self):\n",
    "        self._id = int(input(\"Enter the id of employee :\"))\n",
    "        self._ename = input(\"Enter the employee name\")\n",
    "        self._dept = Department()\n",
    "        self._dept.set_department()\n",
    "    def display_employee(self):\n",
    "        print(\"Employee name :\",self._ename)\n",
    "        print(\"Employee id :\",self._id)\n",
    "        self._dept.display_department()"
   ]
  },
  {
   "cell_type": "code",
   "execution_count": 36,
   "id": "42e85ea9-90d8-4f95-aa02-ae2cb4423abb",
   "metadata": {},
   "outputs": [
    {
     "name": "stdin",
     "output_type": "stream",
     "text": [
      "Enter the id of employee : 1\n",
      "Enter the employee name aditya\n",
      "Enter the id of department 2\n",
      "Enter the department name cse\n"
     ]
    },
    {
     "name": "stdout",
     "output_type": "stream",
     "text": [
      "------------------------------\n",
      "Employee name : aditya\n",
      "Employee id : 1\n",
      "Department name : cse\n",
      "Department id : 2\n"
     ]
    }
   ],
   "source": [
    "emp = Employee3()\n",
    "emp.set_employee()\n",
    "print(\"-\"*30)\n",
    "emp.display_employee()"
   ]
  },
  {
   "cell_type": "code",
   "execution_count": 37,
   "id": "6aed12de-1db7-4ac7-b87b-4df54eab2872",
   "metadata": {},
   "outputs": [],
   "source": [
    "# implementing Inheritance\n",
    "class Person:\n",
    "    def __init__(self,n,a):\n",
    "        self._name = n\n",
    "        self._age = a\n",
    "    def birthday(self):\n",
    "        print(\"Happy Birthday ! you were : \",self._age)\n",
    "        self._age +=1\n",
    "        print(\"Now your age is : \",self._age)\n",
    "    def __str__(self):\n",
    "        print(self._name ,\"is \",self._age ,\"Years old\")"
   ]
  },
  {
   "cell_type": "code",
   "execution_count": null,
   "id": "bc63b250-4164-4b3f-95b0-555c0d74567b",
   "metadata": {},
   "outputs": [],
   "source": []
  },
  {
   "cell_type": "code",
   "execution_count": null,
   "id": "02fc1e1d-2996-4b32-861a-dc548d8b22ae",
   "metadata": {},
   "outputs": [],
   "source": []
  },
  {
   "cell_type": "code",
   "execution_count": null,
   "id": "fd06504e-8094-43f6-90b0-2d0885ddecff",
   "metadata": {},
   "outputs": [],
   "source": []
  },
  {
   "cell_type": "code",
   "execution_count": null,
   "id": "952477b4-efdb-4758-9406-d159fb84aaab",
   "metadata": {},
   "outputs": [],
   "source": []
  }
 ],
 "metadata": {
  "kernelspec": {
   "display_name": "Python 3 (ipykernel)",
   "language": "python",
   "name": "python3"
  },
  "language_info": {
   "codemirror_mode": {
    "name": "ipython",
    "version": 3
   },
   "file_extension": ".py",
   "mimetype": "text/x-python",
   "name": "python",
   "nbconvert_exporter": "python",
   "pygments_lexer": "ipython3",
   "version": "3.11.7"
  }
 },
 "nbformat": 4,
 "nbformat_minor": 5
}
