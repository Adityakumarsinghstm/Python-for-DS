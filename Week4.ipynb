{
 "cells": [
  {
   "cell_type": "markdown",
   "id": "4ddb7cb0-600b-41ae-9557-85b05298ccc7",
   "metadata": {},
   "source": [
    "# Collections\n"
   ]
  },
  {
   "cell_type": "markdown",
   "id": "baba2447-f0cc-42d3-9700-1d6e9b455cec",
   "metadata": {},
   "source": [
    "## List"
   ]
  },
  {
   "cell_type": "code",
   "execution_count": 9,
   "id": "f7de0236-1357-42e3-8932-17f8ef0d2bb1",
   "metadata": {},
   "outputs": [
    {
     "name": "stdout",
     "output_type": "stream",
     "text": [
      "[12, 32, 47, 78]\n",
      "The data type of l1 is : <class 'list'>\n",
      "['aditya', 45.9, 7, [10, 30]]\n",
      "[]\n",
      "['sohan', 'ramesh', 'sohel', 'raghav']\n",
      "Hello World\n",
      "['H', 'e', 'l', 'l', 'o', ' ', 'W', 'o', 'r', 'l', 'd']\n",
      "the length of l1,l2,l3,student : 4 4 11 4\n"
     ]
    }
   ],
   "source": [
    "l1 = [12,32,47,78]\n",
    "print(l1)\n",
    "print(\"The data type of l1 is :\",type(l1))\n",
    "l2 = [\"aditya\",45.9,7,[10,30]]\n",
    "print (l2)\n",
    "student = []\n",
    "print(student)\n",
    "student = [\"sohan\",\"ramesh\",\"sohel\",\"raghav\"]\n",
    "print(student)\n",
    "s = \"Hello World\"\n",
    "l3 = list(s)\n",
    "print(s)\n",
    "print(l3)\n",
    "print(\"the length of l1,l2,l3,student :\",len(l1),len(l2),len(l3),len(student))"
   ]
  },
  {
   "cell_type": "code",
   "execution_count": 11,
   "id": "139eed3b-2a51-434f-b1f8-d0006ce1500c",
   "metadata": {},
   "outputs": [
    {
     "name": "stdout",
     "output_type": "stream",
     "text": [
      "12\n",
      "r\n"
     ]
    }
   ],
   "source": [
    "print(l1[0])\n",
    "print(l3[8])"
   ]
  },
  {
   "cell_type": "code",
   "execution_count": 12,
   "id": "8540da00-afa6-4c7b-9d40-104ea3297c79",
   "metadata": {},
   "outputs": [
    {
     "name": "stdout",
     "output_type": "stream",
     "text": [
      "12\n",
      "32\n",
      "47\n",
      "78\n"
     ]
    }
   ],
   "source": [
    "for i in l1:\n",
    "    print(i)"
   ]
  },
  {
   "cell_type": "code",
   "execution_count": 13,
   "id": "5c590879-2b93-47b6-9202-df7d59b9fc61",
   "metadata": {},
   "outputs": [
    {
     "name": "stdout",
     "output_type": "stream",
     "text": [
      "H\n",
      "e\n",
      "l\n",
      "l\n",
      "o\n",
      " \n",
      "W\n",
      "o\n",
      "r\n",
      "l\n",
      "d\n"
     ]
    }
   ],
   "source": [
    "for i in l3:\n",
    "    print(i)"
   ]
  },
  {
   "cell_type": "code",
   "execution_count": 17,
   "id": "eee4bbca-9d0f-4397-abf3-314424e4350d",
   "metadata": {},
   "outputs": [
    {
     "name": "stdout",
     "output_type": "stream",
     "text": [
      "[45.9, 7]\n"
     ]
    }
   ],
   "source": [
    "print(l2[1:3])"
   ]
  },
  {
   "cell_type": "code",
   "execution_count": 18,
   "id": "4d40cdff-376b-4bc6-b73d-f1ed15db73cb",
   "metadata": {},
   "outputs": [
    {
     "name": "stdout",
     "output_type": "stream",
     "text": [
      "['sohan', 'ramesh', 'sohel', 'raghav']\n"
     ]
    }
   ],
   "source": [
    "print(student[:])"
   ]
  },
  {
   "cell_type": "code",
   "execution_count": 25,
   "id": "d670a8f4-329b-4908-a886-e139496c57bc",
   "metadata": {},
   "outputs": [
    {
     "name": "stdout",
     "output_type": "stream",
     "text": [
      "t : ['a', 'b', 'c', 'd', 'e', 'f']\n",
      "t : ['a', 'b', 'c', 'd', 'e', 'z']\n",
      "t : ['a', 'x', 'y', 'd', 'e', 'z']\n"
     ]
    }
   ],
   "source": [
    "# modification in list\n",
    "t = ['a','b','c','d','e','f']\n",
    "print(\"t :\",t)\n",
    "t[5] = 'z'\n",
    "print(\"t :\",t)\n",
    "t[1:3] = ['x','y']\n",
    "print(\"t :\",t)"
   ]
  },
  {
   "cell_type": "code",
   "execution_count": 4,
   "id": "4b63e02b-756a-4e64-8014-18926283b390",
   "metadata": {},
   "outputs": [
    {
     "name": "stdout",
     "output_type": "stream",
     "text": [
      "[1, 'a', 7.9]\n",
      "[]\n"
     ]
    }
   ],
   "source": [
    "t1 = [1,'a',7.9]\n",
    "print(t1)\n",
    "t1.clear()\n",
    "print(t1)"
   ]
  },
  {
   "cell_type": "code",
   "execution_count": 6,
   "id": "18995fd3-68c2-4504-84f2-77c6d4d6404c",
   "metadata": {},
   "outputs": [
    {
     "name": "stdout",
     "output_type": "stream",
     "text": [
      "['aditya', 'ramesh', 34, 8.9]\n"
     ]
    }
   ],
   "source": [
    "t2 = ['aditya','ramesh',34,8.9]\n",
    "t1 = t2.copy()\n",
    "print (t2)"
   ]
  },
  {
   "cell_type": "code",
   "execution_count": 7,
   "id": "28d2d6d8-5718-4fde-96f3-7f3adaae30c3",
   "metadata": {},
   "outputs": [
    {
     "name": "stdout",
     "output_type": "stream",
     "text": [
      "['p', 8, 9.6]\n"
     ]
    }
   ],
   "source": [
    "t3 = ['p',8,9.6]\n",
    "print(t3)"
   ]
  },
  {
   "cell_type": "code",
   "execution_count": 10,
   "id": "23058086-cdfb-4e11-b6ad-d41091886a54",
   "metadata": {},
   "outputs": [
    {
     "name": "stdout",
     "output_type": "stream",
     "text": [
      "['p', 8, 9.6, 'aditya', 'ramesh', 34, 8.9, 'aditya', 'ramesh', 34, 8.9, 'aditya', 'ramesh', 34, 8.9]\n"
     ]
    }
   ],
   "source": [
    "t3.extend(t2)\n",
    "print(t3)"
   ]
  },
  {
   "cell_type": "code",
   "execution_count": 13,
   "id": "26fda103-72aa-4a88-806c-04ade178aa72",
   "metadata": {},
   "outputs": [
    {
     "name": "stdout",
     "output_type": "stream",
     "text": [
      "3\n"
     ]
    }
   ],
   "source": [
    "print(t3.index('aditya'))\n"
   ]
  },
  {
   "cell_type": "code",
   "execution_count": 14,
   "id": "024438f0-2ef8-4488-a7da-3c459590e557",
   "metadata": {},
   "outputs": [
    {
     "name": "stdout",
     "output_type": "stream",
     "text": [
      "['p', 8, 9.6, 'aditya', 'ramesh', 34, 8.9, 'aditya', 'ramesh', 34, 8.9, 'aditya', 'ramesh', 34, 8.9]\n"
     ]
    }
   ],
   "source": [
    "print(t3)"
   ]
  },
  {
   "cell_type": "code",
   "execution_count": 15,
   "id": "01ca2219-6dba-4fdc-9227-c79895e9e1c9",
   "metadata": {},
   "outputs": [
    {
     "name": "stdout",
     "output_type": "stream",
     "text": [
      "[8.9, 34, 'ramesh', 'aditya', 8.9, 34, 'ramesh', 'aditya', 8.9, 34, 'ramesh', 'aditya', 9.6, 8, 'p']\n"
     ]
    }
   ],
   "source": [
    "t3.reverse()\n",
    "print(t3)"
   ]
  },
  {
   "cell_type": "code",
   "execution_count": 18,
   "id": "41357685-21c5-497e-8a3c-c27ac479110d",
   "metadata": {},
   "outputs": [
    {
     "name": "stdout",
     "output_type": "stream",
     "text": [
      "[231, 43, 12, 8, 90, 567, 92, 3]\n",
      "[3, 8, 12, 43, 90, 92, 231, 567]\n"
     ]
    }
   ],
   "source": [
    "t4 = [231,43,12,8,90,567,92,3]\n",
    "print (t4)\n",
    "t4.sort()\n",
    "print(t4)"
   ]
  },
  {
   "cell_type": "code",
   "execution_count": 20,
   "id": "85c43a63-dccc-49a5-8a1a-790007bd543e",
   "metadata": {},
   "outputs": [
    {
     "name": "stdout",
     "output_type": "stream",
     "text": [
      "['aditya', 'mohan', 'sohan', 'rahul', 'ramesh']\n",
      "Hello  aditya\n",
      "Hello  mohan\n",
      "Hello  sohan\n",
      "Hello  rahul\n",
      "Hello  ramesh\n"
     ]
    }
   ],
   "source": [
    "names = ['aditya','mohan','sohan','rahul','ramesh']\n",
    "print (names)\n",
    "for i in names:\n",
    "    print(\"Hello \",i)"
   ]
  },
  {
   "cell_type": "code",
   "execution_count": 22,
   "id": "309af631-3c5c-40aa-a1a0-1ac7acf4d987",
   "metadata": {},
   "outputs": [
    {
     "name": "stdin",
     "output_type": "stream",
     "text": [
      "Enter the name for searching  roky\n"
     ]
    },
    {
     "name": "stdout",
     "output_type": "stream",
     "text": [
      "The name  roky  is not present\n"
     ]
    }
   ],
   "source": [
    "name_val = input(\"Enter the name for searching \")\n",
    "if name_val in names:\n",
    "    print(\"The name \",name_val,\" is present \")\n",
    "else:\n",
    "    print(\"The name \",name_val,\" is not present\")"
   ]
  },
  {
   "cell_type": "markdown",
   "id": "3107dd91-78ef-4da9-915a-6dc4631db032",
   "metadata": {},
   "source": [
    "## Tuples"
   ]
  },
  {
   "cell_type": "code",
   "execution_count": 23,
   "id": "4e175535-770f-4fdd-9a1d-c5cdf3c253f3",
   "metadata": {},
   "outputs": [
    {
     "name": "stdout",
     "output_type": "stream",
     "text": [
      "(1, 25, 54, 89)\n"
     ]
    }
   ],
   "source": [
    "# creating tuple\n",
    "tup1 = (1,25,54,89)\n",
    "print(tup1)"
   ]
  },
  {
   "cell_type": "code",
   "execution_count": 27,
   "id": "2a88fca3-3514-4f02-9ebe-b8cd6a9d540f",
   "metadata": {},
   "outputs": [
    {
     "name": "stdout",
     "output_type": "stream",
     "text": [
      "[12, 43, 54, 64]\n",
      "(12, 43, 54, 64)\n"
     ]
    }
   ],
   "source": [
    "list1 = [12,43,54,64]\n",
    "print(list1)\n",
    "t1 = tuple(list1)\n",
    "print(t1)"
   ]
  },
  {
   "cell_type": "code",
   "execution_count": 29,
   "id": "bc08b9f0-e641-43d2-bd61-0e5538dd7ff7",
   "metadata": {},
   "outputs": [
    {
     "name": "stdout",
     "output_type": "stream",
     "text": [
      "data type of list1 and t1  <class 'list'> <class 'tuple'>\n"
     ]
    }
   ],
   "source": [
    "print('data type of list1 and t1 ',type(list1),type(t1))"
   ]
  },
  {
   "cell_type": "code",
   "execution_count": 30,
   "id": "be0c70fd-48f3-4e8c-9d9e-d17563ffaab3",
   "metadata": {},
   "outputs": [
    {
     "name": "stdout",
     "output_type": "stream",
     "text": [
      "(1, 25, 54, 89)\n"
     ]
    }
   ],
   "source": [
    "print(tup1)\n"
   ]
  },
  {
   "cell_type": "code",
   "execution_count": 33,
   "id": "38a9efce-54ca-40d0-bc6d-be533a165df2",
   "metadata": {},
   "outputs": [
    {
     "name": "stdout",
     "output_type": "stream",
     "text": [
      "tup[0] : 1\n",
      "tup[1] : 25\n",
      "tup[2] : 54\n",
      "tup[3] : 89\n",
      "the length of tup1 : 4\n"
     ]
    }
   ],
   "source": [
    "print(\"tup[0] :\",tup1[0])\n",
    "print(\"tup[1] :\",tup1[1])\n",
    "print(\"tup[2] :\",tup1[2])\n",
    "print(\"tup[3] :\",tup1[3])\n",
    "\n",
    "print(\"the length of tup1 :\",len(tup1))"
   ]
  },
  {
   "cell_type": "markdown",
   "id": "40eaeed5-6374-4d94-9b44-62a4e8614bea",
   "metadata": {},
   "source": [
    "## Operations on tuple"
   ]
  },
  {
   "cell_type": "code",
   "execution_count": 41,
   "id": "785dce27-a251-4a52-a225-1f5917d5dec4",
   "metadata": {},
   "outputs": [
    {
     "name": "stdout",
     "output_type": "stream",
     "text": [
      "(2, 5, 6, 9, 32, 70)\n",
      "('aditya', 'sohan', 'sunil', 'rahul', 'mohit')\n",
      "(3.5, (2, 5, 6, 9, 32, 70), ('aditya', 'sohan', 'sunil', 'rahul', 'mohit'), 9.5)\n",
      "6\n"
     ]
    }
   ],
   "source": [
    "#Nested tuple\n",
    "tuple1 = (2,5,6,9,32,70)\n",
    "tuple2 = ('aditya','sohan','sunil','rahul','mohit')\n",
    "tuple3 = (3.5,tuple1,tuple2,9.5)\n",
    "print(tuple1)\n",
    "print(tuple2)\n",
    "print(tuple3)\n",
    "print(tuple3[1][2])"
   ]
  },
  {
   "cell_type": "code",
   "execution_count": 40,
   "id": "610cdd9b-309d-4224-b0a9-1aee81229492",
   "metadata": {},
   "outputs": [
    {
     "name": "stdout",
     "output_type": "stream",
     "text": [
      "2\n",
      "5\n",
      "6\n",
      "9\n",
      "32\n",
      "70\n",
      "yes, it's available\n"
     ]
    }
   ],
   "source": [
    "for i in tuple1:\n",
    "    print(i)\n",
    "\n",
    "if 'aditya' in tuple2:\n",
    "    print(\"yes, it's available\")\n",
    "else :\n",
    "    print(\"not available\")\n",
    "    "
   ]
  },
  {
   "cell_type": "code",
   "execution_count": 42,
   "id": "561c2904-a0f9-49e4-96fb-e315b0e9f8db",
   "metadata": {},
   "outputs": [
    {
     "data": {
      "text/plain": [
       "True"
      ]
     },
     "execution_count": 42,
     "metadata": {},
     "output_type": "execute_result"
    }
   ],
   "source": [
    "# comparing of tuples\n",
    "(0,1,4)<(0,3,200000)"
   ]
  },
  {
   "cell_type": "code",
   "execution_count": null,
   "id": "d36a01f0-643f-4cc0-8fef-f4c913b7d2d0",
   "metadata": {},
   "outputs": [],
   "source": []
  },
  {
   "cell_type": "code",
   "execution_count": null,
   "id": "d1e3d36d-5525-4f3a-9c31-c51750039f5f",
   "metadata": {},
   "outputs": [],
   "source": []
  },
  {
   "cell_type": "code",
   "execution_count": null,
   "id": "f491504e-e0ac-4433-9f5c-ef52499948d7",
   "metadata": {},
   "outputs": [],
   "source": []
  },
  {
   "cell_type": "code",
   "execution_count": null,
   "id": "16f631fc-9c3f-4ee3-b7fc-2e5f94d56427",
   "metadata": {},
   "outputs": [],
   "source": []
  },
  {
   "cell_type": "code",
   "execution_count": null,
   "id": "cdb3ca30-bcbb-42fc-965a-7b04848b7d17",
   "metadata": {},
   "outputs": [],
   "source": []
  }
 ],
 "metadata": {
  "kernelspec": {
   "display_name": "Python 3 (ipykernel)",
   "language": "python",
   "name": "python3"
  },
  "language_info": {
   "codemirror_mode": {
    "name": "ipython",
    "version": 3
   },
   "file_extension": ".py",
   "mimetype": "text/x-python",
   "name": "python",
   "nbconvert_exporter": "python",
   "pygments_lexer": "ipython3",
   "version": "3.11.7"
  }
 },
 "nbformat": 4,
 "nbformat_minor": 5
}
