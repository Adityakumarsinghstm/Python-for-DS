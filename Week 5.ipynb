{
 "cells": [
  {
   "cell_type": "markdown",
   "id": "330c9886-3cb4-4df2-ab40-d5b4db192666",
   "metadata": {},
   "source": [
    "# Functions\n"
   ]
  },
  {
   "cell_type": "markdown",
   "id": "91574f80-d819-4c5c-bdad-cdd79e75fda2",
   "metadata": {},
   "source": [
    "## Built in functions\n"
   ]
  },
  {
   "cell_type": "code",
   "execution_count": 7,
   "id": "cfd2b1cb-7d7a-419e-8238-3dd7fbd6a6f5",
   "metadata": {},
   "outputs": [
    {
     "name": "stdout",
     "output_type": "stream",
     "text": [
      "The list is :  [23, 45, 65, 90, 89, 36]\n",
      "The max element in list  90\n",
      "The min element in list  23\n",
      "The length of list  6\n",
      "The type of list1  <class 'list'>\n"
     ]
    }
   ],
   "source": [
    "list1 = [23,45,65,90,89,36]\n",
    "print(\"The list is : \",list1)\n",
    "print(\"The max element in list \",max(list1))\n",
    "print(\"The min element in list \",min(list1))\n",
    "print(\"The length of list \",len(list1))\n",
    "print(\"The type of list1 \",type(list1))"
   ]
  },
  {
   "cell_type": "code",
   "execution_count": 9,
   "id": "3cf5a49c-9179-4d1f-99bc-2c5588c4544c",
   "metadata": {},
   "outputs": [
    {
     "name": "stdout",
     "output_type": "stream",
     "text": [
      "53.8 53 53\n",
      "Type of a, b, c : <class 'float'> <class 'int'> <class 'str'>\n"
     ]
    }
   ],
   "source": [
    "a = 53.8\n",
    "b = int(a)\n",
    "c = str(b)\n",
    "print(a,b,c)\n",
    "print(\"Type of a, b, c :\",type(a),type(b),type(c))"
   ]
  },
  {
   "cell_type": "code",
   "execution_count": 11,
   "id": "07b49b92-f840-4536-bd0a-6c328dfe74ea",
   "metadata": {},
   "outputs": [
    {
     "name": "stdin",
     "output_type": "stream",
     "text": [
      "Enter the number 7\n"
     ]
    },
    {
     "name": "stdout",
     "output_type": "stream",
     "text": [
      "Square root of  7 is  2.6457513110645907\n"
     ]
    }
   ],
   "source": [
    "# math functions\n",
    "import math\n",
    "n = int(input(\"Enter the number\"))\n",
    "print(\"Square root of \",n,\"is \",math.sqrt(n))"
   ]
  },
  {
   "cell_type": "code",
   "execution_count": 17,
   "id": "001f879b-fa7a-4ddb-822b-ce184decac2d",
   "metadata": {},
   "outputs": [
    {
     "name": "stdout",
     "output_type": "stream",
     "text": [
      "The random number between 0.0 and 1.0  0.12190722111445584\n"
     ]
    },
    {
     "name": "stdin",
     "output_type": "stream",
     "text": [
      "Enter the low 34\n",
      "Enter the high 90\n"
     ]
    },
    {
     "name": "stdout",
     "output_type": "stream",
     "text": [
      "47\n"
     ]
    }
   ],
   "source": [
    "# random function\n",
    "import random\n",
    "print(\"The random number between 0.0 and 1.0 \",random.random())\n",
    "low = int(input(\"Enter the low\"))\n",
    "high = int(input(\"Enter the high\"))\n",
    "print(random.randint(low,high))"
   ]
  },
  {
   "cell_type": "code",
   "execution_count": 19,
   "id": "615c8d80-d167-4e6e-8f1c-3c3a3b32387d",
   "metadata": {},
   "outputs": [
    {
     "name": "stdout",
     "output_type": "stream",
     "text": [
      "98\n"
     ]
    }
   ],
   "source": [
    "t1 = (2,4,5,7,456,757,98,8,9,90,67,34)\n",
    "print(random.choice(t1))"
   ]
  },
  {
   "cell_type": "code",
   "execution_count": 1,
   "id": "d7c83bdb-45b6-4d14-939c-ab71fd1b8dcf",
   "metadata": {},
   "outputs": [
    {
     "name": "stdout",
     "output_type": "stream",
     "text": [
      "welcome : aditya\n",
      "welcome : rahul\n",
      "welcome : mohan\n",
      "welcome : sohan\n"
     ]
    }
   ],
   "source": [
    "# Arbitrary Positional Argument function\n",
    "def greeter(*args):\n",
    "    for arg in args:\n",
    "        print(\"welcome :\",arg)\n",
    "greeter(\"aditya\",\"rahul\",\"mohan\",\"sohan\")"
   ]
  },
  {
   "cell_type": "code",
   "execution_count": 4,
   "id": "0ed98f5c-2436-4fb7-a766-3252d994702a",
   "metadata": {},
   "outputs": [
    {
     "name": "stdout",
     "output_type": "stream",
     "text": [
      "welcome : Rahul\n",
      "welcome : Rohit\n",
      "son has value of  Aditya\n",
      "daughter has value of  neha\n"
     ]
    }
   ],
   "source": [
    "# Positional and keyword values\n",
    "def my_function(*args, **kwargs):\n",
    "    for arg in args:\n",
    "        print(\"welcome :\",arg)\n",
    "    for key in kwargs.keys():\n",
    "        print(key , \"has value of \",kwargs[key])\n",
    "my_function(\"Rahul\",\"Rohit\",son=\"Aditya\",daughter=\"neha\")"
   ]
  },
  {
   "cell_type": "code",
   "execution_count": 5,
   "id": "dd63fdc4-99d0-4d47-91e7-81cc31cfe754",
   "metadata": {},
   "outputs": [
    {
     "name": "stdout",
     "output_type": "stream",
     "text": [
      "120\n"
     ]
    }
   ],
   "source": [
    "# Recursion\n",
    "# Example 1 : find the factorial\n",
    "def fact(num):\n",
    "    if num<=1:\n",
    "        return 1\n",
    "    return num * fact(num-1)\n",
    "print(fact(5))"
   ]
  },
  {
   "cell_type": "code",
   "execution_count": 10,
   "id": "3ab81e78-e12c-4031-8f17-659b83a647e0",
   "metadata": {},
   "outputs": [
    {
     "name": "stdout",
     "output_type": "stream",
     "text": [
      "25\n"
     ]
    }
   ],
   "source": [
    "# Lambda function\n",
    "square = lambda i: i * i\n",
    "print(square(5))"
   ]
  },
  {
   "cell_type": "code",
   "execution_count": 11,
   "id": "f2da3b8a-4170-4f79-9b95-222a43cfef4e",
   "metadata": {},
   "outputs": [
    {
     "name": "stdout",
     "output_type": "stream",
     "text": [
      "lambda expression with no argument\n",
      "4\n",
      "24\n",
      "15\n"
     ]
    }
   ],
   "source": [
    "func0 = lambda : print(\"lambda expression with no argument\")\n",
    "func1 = lambda x : x\n",
    "func2 = lambda x,y : x*y\n",
    "func3 = lambda x,y,z : x+y+z\n",
    "\n",
    "func0()\n",
    "print(func1(4))\n",
    "print(func2(4,6))\n",
    "print(func3(4,5,6))\n"
   ]
  },
  {
   "cell_type": "code",
   "execution_count": 23,
   "id": "3c4cfec1-82e4-4e5e-8ed5-5bca0557037f",
   "metadata": {},
   "outputs": [
    {
     "name": "stdin",
     "output_type": "stream",
     "text": [
      "Enter the number for which you want square 8\n"
     ]
    },
    {
     "name": "stdout",
     "output_type": "stream",
     "text": [
      "64\n"
     ]
    }
   ],
   "source": [
    "#higher order function\n",
    "\n",
    "def apply(x,function):\n",
    "    return function(x)\n",
    "def square(num):\n",
    "    return num ** 2\n",
    "n = int(input(\"Enter the number for which you want square\"))\n",
    "print(apply(n,square))"
   ]
  },
  {
   "cell_type": "code",
   "execution_count": 25,
   "id": "4432f2ec-f922-4cc9-a544-8b48aa6e6377",
   "metadata": {},
   "outputs": [
    {
     "name": "stdout",
     "output_type": "stream",
     "text": [
      "False\n",
      "True\n",
      "False\n"
     ]
    }
   ],
   "source": [
    "\n",
    "def make_checker(s):\n",
    "    if s == 'even':\n",
    "        return lambda n : n%2 == 0\n",
    "    elif s == 'positive':\n",
    "        return lambda n : n>= 0\n",
    "    elif s == 'negative':\n",
    "        return lambda n : n<0\n",
    "f1 = make_checker('even')\n",
    "f2 = make_checker('positive')\n",
    "f3 = make_checker('negative')\n",
    "\n",
    "print(f1(3))\n",
    "print(f2(3))\n",
    "print(f3(3))"
   ]
  },
  {
   "cell_type": "code",
   "execution_count": 28,
   "id": "17b67e3b-917d-4c5e-b34d-65217b74bf46",
   "metadata": {},
   "outputs": [
    {
     "name": "stdout",
     "output_type": "stream",
     "text": [
      "The even numbers in the list : [6, 2, 8]\n"
     ]
    }
   ],
   "source": [
    "# filter function\n",
    "data = [3,5,6,9,2,7,8]\n",
    "def is_even(i):\n",
    "    return i % 2 == 0\n",
    "\n",
    "even_data = list(filter(is_even,data))\n",
    "print(\"The even numbers in the list :\",even_data)"
   ]
  },
  {
   "cell_type": "code",
   "execution_count": 29,
   "id": "ee10f5ee-de0f-44bd-8f2d-9b2a9b60859d",
   "metadata": {},
   "outputs": [
    {
     "name": "stdout",
     "output_type": "stream",
     "text": [
      "data : (3, 4, 5, 7, 9, 2)\n",
      "updated data : [4, 5, 6, 8, 10, 3]\n"
     ]
    }
   ],
   "source": [
    "# map() function\n",
    "data = (3,4,5,7,9,2)\n",
    "print (\"data :\",data)\n",
    "\n",
    "d1 = list(map(lambda i : i + 1, data))\n",
    "print(\"updated data :\",d1)"
   ]
  },
  {
   "cell_type": "code",
   "execution_count": 33,
   "id": "eaf923df-90f8-4c33-a591-d5dce36d78ab",
   "metadata": {},
   "outputs": [
    {
     "name": "stdout",
     "output_type": "stream",
     "text": [
      "The result is :  [11, 11, 12, 10]\n"
     ]
    }
   ],
   "source": [
    "data1 = [2,4,6,7]\n",
    "data2 = [9,7,6,3]\n",
    "\n",
    "result = list(map(lambda x,y : x + y, data1, data2))\n",
    "print (\"The result is : \",result)"
   ]
  },
  {
   "cell_type": "code",
   "execution_count": null,
   "id": "1944739f-a36a-4ddf-a497-57257f5376c0",
   "metadata": {},
   "outputs": [],
   "source": []
  },
  {
   "cell_type": "code",
   "execution_count": null,
   "id": "5f574f04-6ced-4329-93dc-f58de6e34e91",
   "metadata": {},
   "outputs": [],
   "source": []
  },
  {
   "cell_type": "code",
   "execution_count": null,
   "id": "d2a18fec-26f9-4833-9c42-76fb28f9588e",
   "metadata": {},
   "outputs": [],
   "source": []
  },
  {
   "cell_type": "code",
   "execution_count": null,
   "id": "83662a3f-72f0-4efa-90f9-53ed12f94b3b",
   "metadata": {},
   "outputs": [],
   "source": []
  }
 ],
 "metadata": {
  "kernelspec": {
   "display_name": "Python 3 (ipykernel)",
   "language": "python",
   "name": "python3"
  },
  "language_info": {
   "codemirror_mode": {
    "name": "ipython",
    "version": 3
   },
   "file_extension": ".py",
   "mimetype": "text/x-python",
   "name": "python",
   "nbconvert_exporter": "python",
   "pygments_lexer": "ipython3",
   "version": "3.11.7"
  }
 },
 "nbformat": 4,
 "nbformat_minor": 5
}
