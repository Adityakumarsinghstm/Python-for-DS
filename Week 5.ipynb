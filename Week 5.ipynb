{
 "cells": [
  {
   "cell_type": "markdown",
   "id": "330c9886-3cb4-4df2-ab40-d5b4db192666",
   "metadata": {},
   "source": [
    "# Functions\n"
   ]
  },
  {
   "cell_type": "markdown",
   "id": "91574f80-d819-4c5c-bdad-cdd79e75fda2",
   "metadata": {},
   "source": [
    "## Built in functions\n"
   ]
  },
  {
   "cell_type": "code",
   "execution_count": 7,
   "id": "cfd2b1cb-7d7a-419e-8238-3dd7fbd6a6f5",
   "metadata": {},
   "outputs": [
    {
     "name": "stdout",
     "output_type": "stream",
     "text": [
      "The list is :  [23, 45, 65, 90, 89, 36]\n",
      "The max element in list  90\n",
      "The min element in list  23\n",
      "The length of list  6\n",
      "The type of list1  <class 'list'>\n"
     ]
    }
   ],
   "source": [
    "list1 = [23,45,65,90,89,36]\n",
    "print(\"The list is : \",list1)\n",
    "print(\"The max element in list \",max(list1))\n",
    "print(\"The min element in list \",min(list1))\n",
    "print(\"The length of list \",len(list1))\n",
    "print(\"The type of list1 \",type(list1))"
   ]
  },
  {
   "cell_type": "code",
   "execution_count": 9,
   "id": "3cf5a49c-9179-4d1f-99bc-2c5588c4544c",
   "metadata": {},
   "outputs": [
    {
     "name": "stdout",
     "output_type": "stream",
     "text": [
      "53.8 53 53\n",
      "Type of a, b, c : <class 'float'> <class 'int'> <class 'str'>\n"
     ]
    }
   ],
   "source": [
    "a = 53.8\n",
    "b = int(a)\n",
    "c = str(b)\n",
    "print(a,b,c)\n",
    "print(\"Type of a, b, c :\",type(a),type(b),type(c))"
   ]
  },
  {
   "cell_type": "code",
   "execution_count": 11,
   "id": "07b49b92-f840-4536-bd0a-6c328dfe74ea",
   "metadata": {},
   "outputs": [
    {
     "name": "stdin",
     "output_type": "stream",
     "text": [
      "Enter the number 7\n"
     ]
    },
    {
     "name": "stdout",
     "output_type": "stream",
     "text": [
      "Square root of  7 is  2.6457513110645907\n"
     ]
    }
   ],
   "source": [
    "# math functions\n",
    "import math\n",
    "n = int(input(\"Enter the number\"))\n",
    "print(\"Square root of \",n,\"is \",math.sqrt(n))"
   ]
  },
  {
   "cell_type": "code",
   "execution_count": 17,
   "id": "001f879b-fa7a-4ddb-822b-ce184decac2d",
   "metadata": {},
   "outputs": [
    {
     "name": "stdout",
     "output_type": "stream",
     "text": [
      "The random number between 0.0 and 1.0  0.12190722111445584\n"
     ]
    },
    {
     "name": "stdin",
     "output_type": "stream",
     "text": [
      "Enter the low 34\n",
      "Enter the high 90\n"
     ]
    },
    {
     "name": "stdout",
     "output_type": "stream",
     "text": [
      "47\n"
     ]
    }
   ],
   "source": [
    "# random function\n",
    "import random\n",
    "print(\"The random number between 0.0 and 1.0 \",random.random())\n",
    "low = int(input(\"Enter the low\"))\n",
    "high = int(input(\"Enter the high\"))\n",
    "print(random.randint(low,high))"
   ]
  },
  {
   "cell_type": "code",
   "execution_count": 19,
   "id": "615c8d80-d167-4e6e-8f1c-3c3a3b32387d",
   "metadata": {},
   "outputs": [
    {
     "name": "stdout",
     "output_type": "stream",
     "text": [
      "98\n"
     ]
    }
   ],
   "source": [
    "t1 = (2,4,5,7,456,757,98,8,9,90,67,34)\n",
    "print(random.choice(t1))"
   ]
  },
  {
   "cell_type": "code",
   "execution_count": null,
   "id": "d7c83bdb-45b6-4d14-939c-ab71fd1b8dcf",
   "metadata": {},
   "outputs": [],
   "source": []
  },
  {
   "cell_type": "code",
   "execution_count": null,
   "id": "0ed98f5c-2436-4fb7-a766-3252d994702a",
   "metadata": {},
   "outputs": [],
   "source": []
  },
  {
   "cell_type": "code",
   "execution_count": null,
   "id": "dd63fdc4-99d0-4d47-91e7-81cc31cfe754",
   "metadata": {},
   "outputs": [],
   "source": []
  },
  {
   "cell_type": "code",
   "execution_count": null,
   "id": "3ab81e78-e12c-4031-8f17-659b83a647e0",
   "metadata": {},
   "outputs": [],
   "source": []
  },
  {
   "cell_type": "code",
   "execution_count": null,
   "id": "f2da3b8a-4170-4f79-9b95-222a43cfef4e",
   "metadata": {},
   "outputs": [],
   "source": []
  },
  {
   "cell_type": "code",
   "execution_count": null,
   "id": "3c4cfec1-82e4-4e5e-8ed5-5bca0557037f",
   "metadata": {},
   "outputs": [],
   "source": []
  },
  {
   "cell_type": "code",
   "execution_count": null,
   "id": "4432f2ec-f922-4cc9-a544-8b48aa6e6377",
   "metadata": {},
   "outputs": [],
   "source": []
  },
  {
   "cell_type": "code",
   "execution_count": null,
   "id": "17b67e3b-917d-4c5e-b34d-65217b74bf46",
   "metadata": {},
   "outputs": [],
   "source": []
  },
  {
   "cell_type": "code",
   "execution_count": null,
   "id": "ee10f5ee-de0f-44bd-8f2d-9b2a9b60859d",
   "metadata": {},
   "outputs": [],
   "source": []
  }
 ],
 "metadata": {
  "kernelspec": {
   "display_name": "Python 3 (ipykernel)",
   "language": "python",
   "name": "python3"
  },
  "language_info": {
   "codemirror_mode": {
    "name": "ipython",
    "version": 3
   },
   "file_extension": ".py",
   "mimetype": "text/x-python",
   "name": "python",
   "nbconvert_exporter": "python",
   "pygments_lexer": "ipython3",
   "version": "3.11.7"
  }
 },
 "nbformat": 4,
 "nbformat_minor": 5
}
