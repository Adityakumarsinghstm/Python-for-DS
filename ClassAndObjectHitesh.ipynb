{
 "cells": [
  {
   "cell_type": "markdown",
   "id": "ae03bfde-9505-4175-a0f8-4472ced672f1",
   "metadata": {},
   "source": [
    "# Classes and Objects"
   ]
  },
  {
   "cell_type": "code",
   "execution_count": 49,
   "id": "ba793569-17b6-475e-8c28-ad05f737568a",
   "metadata": {},
   "outputs": [],
   "source": [
    "# creating firs class and object\n",
    "class Car:\n",
    "    total_car = 0\n",
    "    def __init__(self,model,brand=None,):\n",
    "        self.__brand = brand\n",
    "        self.model = model\n",
    "        Car.total_car += 1\n",
    "    def fullName(self):\n",
    "        return f\"{self.__brand} {self.model}\"\n",
    "# getter\n",
    "    def get_brand(self):\n",
    "        return self.__brand + \"!\"\n",
    "# setter\n",
    "    # def set_brand(self,brand):\n",
    "    #     self.__brand = brand\n",
    "\n",
    "    def fuel_type(self):\n",
    "        return \"desiel or petrol\"\n",
    "\n",
    "    @staticmethod\n",
    "    def general_description():\n",
    "        return (\"Cars are means of transportation\")\n",
    "   \n",
    "class ElectricCar(Car):\n",
    "    def __init__(self,model,battery_size,brand=None):\n",
    "        super().__init__(brand,model)\n",
    "        self.battery_size = battery_size\n",
    "\n",
    "    def fuel_type(self):\n",
    "        return \"electri charge\"\n",
    "\n",
    "#my_tesla = ElectricCar(\"Model S\",\"85 Kwh\")\n",
    "#print(my_tesla.fuel_type())\n",
    "#print(my_tesla.general_description())\n",
    "# print(my_tesla.battery_size)\n",
    "# my_tesla.set_brand(\"tesla\")\n",
    "# print(my_tesla.get_brand())\n",
    "# print(my_tesla.fullName())\n",
    "#print(my_tesla.__brand)\n",
    "# print(my_tesla.get_brand())\n",
    "\n",
    "#my_car = Car(\"corolla\")\n",
    "#print(my_car.fuel_type())\n",
    "# my_car.set_brand(\"tata\")\n",
    "# print(my_car.get_brand())\n",
    "# print(my_car.fullName())\n",
    "#print(Car.total_car)\n",
    "#print(Car.general_description())\n",
    "\n",
    "# my_new_car = Car(\"tata\",\"safari\")\n",
    "# print(my_new_car.brand)\n",
    "    "
   ]
  },
  {
   "cell_type": "code",
   "execution_count": 50,
   "id": "4c544659-6c63-4354-91cb-75861c40c6d5",
   "metadata": {},
   "outputs": [
    {
     "name": "stdout",
     "output_type": "stream",
     "text": [
      "This is battery\n",
      "None\n",
      "This is engine\n",
      "None\n"
     ]
    }
   ],
   "source": [
    "class Battery:\n",
    "    def battery_info(self):\n",
    "        print(\"This is battery\")\n",
    "class Engine:\n",
    "    def engine_info(self):\n",
    "        print(\"This is engine\")\n",
    "class ElectricTwo(Battery,Engine,Car):\n",
    "    pass\n",
    "\n",
    "my_new_tesla = ElectricTwo(\"tesla\",\"Model S\")\n",
    "print(my_new_tesla.battery_info())\n",
    "print(my_new_tesla.engine_info())\n",
    "    "
   ]
  },
  {
   "cell_type": "code",
   "execution_count": null,
   "id": "748a99c6-f492-408e-813b-369daf72af2f",
   "metadata": {},
   "outputs": [],
   "source": []
  },
  {
   "cell_type": "code",
   "execution_count": null,
   "id": "9c46566f-d0b3-449c-a631-303e3d4b02a9",
   "metadata": {},
   "outputs": [],
   "source": []
  },
  {
   "cell_type": "code",
   "execution_count": null,
   "id": "adc19fe5-476e-4c78-9779-3cc7b412830f",
   "metadata": {},
   "outputs": [],
   "source": []
  },
  {
   "cell_type": "code",
   "execution_count": null,
   "id": "9f5c03d9-2269-42bf-887f-3b1a0cd0248e",
   "metadata": {},
   "outputs": [],
   "source": []
  },
  {
   "cell_type": "code",
   "execution_count": null,
   "id": "9efae63c-191b-4239-a829-209c998bca3f",
   "metadata": {},
   "outputs": [],
   "source": []
  },
  {
   "cell_type": "code",
   "execution_count": null,
   "id": "b17e758a-ce3c-4f5c-9d70-63a76f7a2053",
   "metadata": {},
   "outputs": [],
   "source": []
  }
 ],
 "metadata": {
  "kernelspec": {
   "display_name": "Python 3 (ipykernel)",
   "language": "python",
   "name": "python3"
  },
  "language_info": {
   "codemirror_mode": {
    "name": "ipython",
    "version": 3
   },
   "file_extension": ".py",
   "mimetype": "text/x-python",
   "name": "python",
   "nbconvert_exporter": "python",
   "pygments_lexer": "ipython3",
   "version": "3.11.7"
  }
 },
 "nbformat": 4,
 "nbformat_minor": 5
}
