{
 "cells": [
  {
   "cell_type": "code",
   "execution_count": 1,
   "id": "7f74c7b3-4413-4767-b8bf-4de682cdb127",
   "metadata": {},
   "outputs": [
    {
     "name": "stdout",
     "output_type": "stream",
     "text": [
      "Collecting mysql-connector-python\n",
      "  Downloading mysql_connector_python-8.4.0-cp311-cp311-win_amd64.whl.metadata (2.0 kB)\n",
      "Downloading mysql_connector_python-8.4.0-cp311-cp311-win_amd64.whl (14.5 MB)\n",
      "   ---------------------------------------- 0.0/14.5 MB ? eta -:--:--\n",
      "   ---------------------------------------- 0.0/14.5 MB 320.0 kB/s eta 0:00:46\n",
      "   ---------------------------------------- 0.0/14.5 MB 320.0 kB/s eta 0:00:46\n",
      "   ---------------------------------------- 0.0/14.5 MB 279.3 kB/s eta 0:00:52\n",
      "   ---------------------------------------- 0.1/14.5 MB 326.1 kB/s eta 0:00:45\n",
      "   ---------------------------------------- 0.1/14.5 MB 435.7 kB/s eta 0:00:33\n",
      "    --------------------------------------- 0.2/14.5 MB 692.9 kB/s eta 0:00:21\n",
      "    --------------------------------------- 0.2/14.5 MB 724.0 kB/s eta 0:00:20\n",
      "    --------------------------------------- 0.3/14.5 MB 796.4 kB/s eta 0:00:18\n",
      "    --------------------------------------- 0.3/14.5 MB 796.4 kB/s eta 0:00:18\n",
      "    --------------------------------------- 0.3/14.5 MB 746.0 kB/s eta 0:00:19\n",
      "   - -------------------------------------- 0.4/14.5 MB 781.2 kB/s eta 0:00:19\n",
      "   - -------------------------------------- 0.5/14.5 MB 923.9 kB/s eta 0:00:16\n",
      "   - -------------------------------------- 0.6/14.5 MB 923.3 kB/s eta 0:00:16\n",
      "   - -------------------------------------- 0.7/14.5 MB 1.0 MB/s eta 0:00:14\n",
      "   - -------------------------------------- 0.7/14.5 MB 1.1 MB/s eta 0:00:13\n",
      "   -- ------------------------------------- 0.8/14.5 MB 1.1 MB/s eta 0:00:13\n",
      "   -- ------------------------------------- 0.9/14.5 MB 1.2 MB/s eta 0:00:12\n",
      "   -- ------------------------------------- 1.0/14.5 MB 1.2 MB/s eta 0:00:12\n",
      "   -- ------------------------------------- 1.0/14.5 MB 1.2 MB/s eta 0:00:12\n",
      "   --- ------------------------------------ 1.1/14.5 MB 1.2 MB/s eta 0:00:12\n",
      "   --- ------------------------------------ 1.3/14.5 MB 1.3 MB/s eta 0:00:11\n",
      "   --- ------------------------------------ 1.3/14.5 MB 1.3 MB/s eta 0:00:11\n",
      "   --- ------------------------------------ 1.3/14.5 MB 1.2 MB/s eta 0:00:11\n",
      "   --- ------------------------------------ 1.4/14.5 MB 1.2 MB/s eta 0:00:11\n",
      "   --- ------------------------------------ 1.4/14.5 MB 1.2 MB/s eta 0:00:11\n",
      "   ---- ----------------------------------- 1.5/14.5 MB 1.2 MB/s eta 0:00:11\n",
      "   ---- ----------------------------------- 1.6/14.5 MB 1.3 MB/s eta 0:00:11\n",
      "   ---- ----------------------------------- 1.8/14.5 MB 1.3 MB/s eta 0:00:10\n",
      "   ---- ----------------------------------- 1.8/14.5 MB 1.3 MB/s eta 0:00:10\n",
      "   ----- ---------------------------------- 1.8/14.5 MB 1.3 MB/s eta 0:00:10\n",
      "   ----- ---------------------------------- 1.9/14.5 MB 1.3 MB/s eta 0:00:10\n",
      "   ----- ---------------------------------- 2.0/14.5 MB 1.3 MB/s eta 0:00:10\n",
      "   ----- ---------------------------------- 2.0/14.5 MB 1.3 MB/s eta 0:00:10\n",
      "   ----- ---------------------------------- 2.0/14.5 MB 1.3 MB/s eta 0:00:10\n",
      "   ----- ---------------------------------- 2.1/14.5 MB 1.3 MB/s eta 0:00:10\n",
      "   ------ --------------------------------- 2.2/14.5 MB 1.3 MB/s eta 0:00:10\n",
      "   ------ --------------------------------- 2.4/14.5 MB 1.4 MB/s eta 0:00:09\n",
      "   ------- -------------------------------- 2.5/14.5 MB 1.4 MB/s eta 0:00:09\n",
      "   ------- -------------------------------- 2.7/14.5 MB 1.4 MB/s eta 0:00:09\n",
      "   ------- -------------------------------- 2.8/14.5 MB 1.5 MB/s eta 0:00:08\n",
      "   ------- -------------------------------- 2.8/14.5 MB 1.5 MB/s eta 0:00:08\n",
      "   ------- -------------------------------- 2.8/14.5 MB 1.4 MB/s eta 0:00:09\n",
      "   ------- -------------------------------- 2.8/14.5 MB 1.4 MB/s eta 0:00:09\n",
      "   ------- -------------------------------- 2.8/14.5 MB 1.4 MB/s eta 0:00:09\n",
      "   ------- -------------------------------- 2.9/14.5 MB 1.3 MB/s eta 0:00:09\n",
      "   -------- ------------------------------- 3.2/14.5 MB 1.4 MB/s eta 0:00:08\n",
      "   --------- ------------------------------ 3.3/14.5 MB 1.5 MB/s eta 0:00:08\n",
      "   --------- ------------------------------ 3.4/14.5 MB 1.4 MB/s eta 0:00:08\n",
      "   --------- ------------------------------ 3.5/14.5 MB 1.5 MB/s eta 0:00:08\n",
      "   --------- ------------------------------ 3.6/14.5 MB 1.5 MB/s eta 0:00:08\n",
      "   ---------- ----------------------------- 3.6/14.5 MB 1.5 MB/s eta 0:00:08\n",
      "   ---------- ----------------------------- 3.7/14.5 MB 1.5 MB/s eta 0:00:08\n",
      "   ---------- ----------------------------- 3.7/14.5 MB 1.5 MB/s eta 0:00:08\n",
      "   ---------- ----------------------------- 3.8/14.5 MB 1.5 MB/s eta 0:00:08\n",
      "   ---------- ----------------------------- 3.9/14.5 MB 1.4 MB/s eta 0:00:08\n",
      "   ----------- ---------------------------- 4.0/14.5 MB 1.5 MB/s eta 0:00:08\n",
      "   ----------- ---------------------------- 4.1/14.5 MB 1.5 MB/s eta 0:00:08\n",
      "   ----------- ---------------------------- 4.2/14.5 MB 1.5 MB/s eta 0:00:07\n",
      "   ----------- ---------------------------- 4.3/14.5 MB 1.5 MB/s eta 0:00:07\n",
      "   ----------- ---------------------------- 4.3/14.5 MB 1.5 MB/s eta 0:00:07\n",
      "   ------------ --------------------------- 4.4/14.5 MB 1.5 MB/s eta 0:00:07\n",
      "   ------------ --------------------------- 4.4/14.5 MB 1.5 MB/s eta 0:00:07\n",
      "   ------------ --------------------------- 4.4/14.5 MB 1.5 MB/s eta 0:00:07\n",
      "   ------------ --------------------------- 4.5/14.5 MB 1.4 MB/s eta 0:00:07\n",
      "   ------------ --------------------------- 4.5/14.5 MB 1.5 MB/s eta 0:00:07\n",
      "   ------------ --------------------------- 4.5/14.5 MB 1.4 MB/s eta 0:00:07\n",
      "   ------------ --------------------------- 4.6/14.5 MB 1.4 MB/s eta 0:00:07\n",
      "   ------------ --------------------------- 4.6/14.5 MB 1.4 MB/s eta 0:00:07\n",
      "   ------------- -------------------------- 4.7/14.5 MB 1.4 MB/s eta 0:00:07\n",
      "   ------------- -------------------------- 4.7/14.5 MB 1.4 MB/s eta 0:00:07\n",
      "   ------------- -------------------------- 4.8/14.5 MB 1.4 MB/s eta 0:00:07\n",
      "   ------------- -------------------------- 4.8/14.5 MB 1.4 MB/s eta 0:00:07\n",
      "   ------------- -------------------------- 4.9/14.5 MB 1.4 MB/s eta 0:00:07\n",
      "   ------------- -------------------------- 5.0/14.5 MB 1.4 MB/s eta 0:00:07\n",
      "   ------------- -------------------------- 5.0/14.5 MB 1.4 MB/s eta 0:00:07\n",
      "   -------------- ------------------------- 5.1/14.5 MB 1.4 MB/s eta 0:00:07\n",
      "   -------------- ------------------------- 5.1/14.5 MB 1.4 MB/s eta 0:00:07\n",
      "   -------------- ------------------------- 5.2/14.5 MB 1.4 MB/s eta 0:00:07\n",
      "   -------------- ------------------------- 5.2/14.5 MB 1.4 MB/s eta 0:00:07\n",
      "   -------------- ------------------------- 5.3/14.5 MB 1.4 MB/s eta 0:00:07\n",
      "   -------------- ------------------------- 5.3/14.5 MB 1.4 MB/s eta 0:00:07\n",
      "   -------------- ------------------------- 5.4/14.5 MB 1.4 MB/s eta 0:00:07\n",
      "   -------------- ------------------------- 5.4/14.5 MB 1.3 MB/s eta 0:00:07\n",
      "   -------------- ------------------------- 5.4/14.5 MB 1.3 MB/s eta 0:00:07\n",
      "   --------------- ------------------------ 5.5/14.5 MB 1.3 MB/s eta 0:00:07\n",
      "   --------------- ------------------------ 5.5/14.5 MB 1.3 MB/s eta 0:00:07\n",
      "   --------------- ------------------------ 5.5/14.5 MB 1.3 MB/s eta 0:00:07\n",
      "   --------------- ------------------------ 5.5/14.5 MB 1.3 MB/s eta 0:00:07\n",
      "   --------------- ------------------------ 5.6/14.5 MB 1.3 MB/s eta 0:00:07\n",
      "   --------------- ------------------------ 5.6/14.5 MB 1.3 MB/s eta 0:00:07\n",
      "   --------------- ------------------------ 5.7/14.5 MB 1.3 MB/s eta 0:00:07\n",
      "   --------------- ------------------------ 5.7/14.5 MB 1.3 MB/s eta 0:00:07\n",
      "   ---------------- ----------------------- 5.8/14.5 MB 1.3 MB/s eta 0:00:07\n",
      "   ---------------- ----------------------- 5.9/14.5 MB 1.3 MB/s eta 0:00:07\n",
      "   ---------------- ----------------------- 6.1/14.5 MB 1.3 MB/s eta 0:00:07\n",
      "   ----------------- ---------------------- 6.2/14.5 MB 1.3 MB/s eta 0:00:07\n",
      "   ----------------- ---------------------- 6.3/14.5 MB 1.3 MB/s eta 0:00:07\n",
      "   ----------------- ---------------------- 6.4/14.5 MB 1.3 MB/s eta 0:00:06\n",
      "   ------------------ --------------------- 6.5/14.5 MB 1.4 MB/s eta 0:00:06\n",
      "   ------------------ --------------------- 6.6/14.5 MB 1.4 MB/s eta 0:00:06\n",
      "   ------------------ --------------------- 6.6/14.5 MB 1.3 MB/s eta 0:00:06\n",
      "   ------------------ --------------------- 6.6/14.5 MB 1.3 MB/s eta 0:00:06\n",
      "   ------------------ --------------------- 6.7/14.5 MB 1.3 MB/s eta 0:00:06\n",
      "   ------------------ --------------------- 6.8/14.5 MB 1.3 MB/s eta 0:00:06\n",
      "   ------------------- -------------------- 6.9/14.5 MB 1.4 MB/s eta 0:00:06\n",
      "   ------------------- -------------------- 7.0/14.5 MB 1.4 MB/s eta 0:00:06\n",
      "   ------------------- -------------------- 7.2/14.5 MB 1.4 MB/s eta 0:00:06\n",
      "   ------------------- -------------------- 7.2/14.5 MB 1.4 MB/s eta 0:00:06\n",
      "   -------------------- ------------------- 7.2/14.5 MB 1.4 MB/s eta 0:00:06\n",
      "   -------------------- ------------------- 7.4/14.5 MB 1.4 MB/s eta 0:00:06\n",
      "   -------------------- ------------------- 7.4/14.5 MB 1.4 MB/s eta 0:00:06\n",
      "   -------------------- ------------------- 7.5/14.5 MB 1.4 MB/s eta 0:00:06\n",
      "   -------------------- ------------------- 7.5/14.5 MB 1.4 MB/s eta 0:00:06\n",
      "   --------------------- ------------------ 7.7/14.5 MB 1.4 MB/s eta 0:00:05\n",
      "   --------------------- ------------------ 7.9/14.5 MB 1.4 MB/s eta 0:00:05\n",
      "   --------------------- ------------------ 7.9/14.5 MB 1.4 MB/s eta 0:00:05\n",
      "   ---------------------- ----------------- 8.0/14.5 MB 1.4 MB/s eta 0:00:05\n",
      "   ---------------------- ----------------- 8.1/14.5 MB 1.4 MB/s eta 0:00:05\n",
      "   ---------------------- ----------------- 8.2/14.5 MB 1.4 MB/s eta 0:00:05\n",
      "   ----------------------- ---------------- 8.3/14.5 MB 1.4 MB/s eta 0:00:05\n",
      "   ----------------------- ---------------- 8.3/14.5 MB 1.4 MB/s eta 0:00:05\n",
      "   ----------------------- ---------------- 8.3/14.5 MB 1.4 MB/s eta 0:00:05\n",
      "   ----------------------- ---------------- 8.4/14.5 MB 1.4 MB/s eta 0:00:05\n",
      "   ----------------------- ---------------- 8.4/14.5 MB 1.4 MB/s eta 0:00:05\n",
      "   ----------------------- ---------------- 8.5/14.5 MB 1.4 MB/s eta 0:00:05\n",
      "   ----------------------- ---------------- 8.6/14.5 MB 1.4 MB/s eta 0:00:05\n",
      "   ----------------------- ---------------- 8.7/14.5 MB 1.4 MB/s eta 0:00:05\n",
      "   ------------------------ --------------- 8.7/14.5 MB 1.4 MB/s eta 0:00:05\n",
      "   ------------------------ --------------- 8.7/14.5 MB 1.4 MB/s eta 0:00:05\n",
      "   ------------------------ --------------- 8.8/14.5 MB 1.4 MB/s eta 0:00:05\n",
      "   ------------------------ --------------- 8.9/14.5 MB 1.4 MB/s eta 0:00:04\n",
      "   ------------------------ --------------- 8.9/14.5 MB 1.4 MB/s eta 0:00:04\n",
      "   ------------------------ --------------- 9.0/14.5 MB 1.4 MB/s eta 0:00:04\n",
      "   ------------------------ --------------- 9.0/14.5 MB 1.4 MB/s eta 0:00:04\n",
      "   ------------------------ --------------- 9.0/14.5 MB 1.4 MB/s eta 0:00:04\n",
      "   ------------------------- -------------- 9.1/14.5 MB 1.4 MB/s eta 0:00:04\n",
      "   ------------------------- -------------- 9.1/14.5 MB 1.4 MB/s eta 0:00:04\n",
      "   ------------------------- -------------- 9.2/14.5 MB 1.4 MB/s eta 0:00:04\n",
      "   -------------------------- ------------- 9.4/14.5 MB 1.4 MB/s eta 0:00:04\n",
      "   -------------------------- ------------- 9.5/14.5 MB 1.4 MB/s eta 0:00:04\n",
      "   -------------------------- ------------- 9.6/14.5 MB 1.4 MB/s eta 0:00:04\n",
      "   -------------------------- ------------- 9.7/14.5 MB 1.4 MB/s eta 0:00:04\n",
      "   --------------------------- ------------ 9.9/14.5 MB 1.4 MB/s eta 0:00:04\n",
      "   --------------------------- ------------ 10.0/14.5 MB 1.4 MB/s eta 0:00:04\n",
      "   --------------------------- ------------ 10.0/14.5 MB 1.4 MB/s eta 0:00:04\n",
      "   --------------------------- ------------ 10.1/14.5 MB 1.4 MB/s eta 0:00:04\n",
      "   ---------------------------- ----------- 10.3/14.5 MB 1.5 MB/s eta 0:00:03\n",
      "   ---------------------------- ----------- 10.3/14.5 MB 1.5 MB/s eta 0:00:03\n",
      "   ---------------------------- ----------- 10.4/14.5 MB 1.5 MB/s eta 0:00:03\n",
      "   ---------------------------- ----------- 10.5/14.5 MB 1.5 MB/s eta 0:00:03\n",
      "   ---------------------------- ----------- 10.5/14.5 MB 1.5 MB/s eta 0:00:03\n",
      "   ----------------------------- ---------- 10.5/14.5 MB 1.5 MB/s eta 0:00:03\n",
      "   ----------------------------- ---------- 10.6/14.5 MB 1.5 MB/s eta 0:00:03\n",
      "   ----------------------------- ---------- 10.7/14.5 MB 1.5 MB/s eta 0:00:03\n",
      "   ------------------------------ --------- 10.9/14.5 MB 1.5 MB/s eta 0:00:03\n",
      "   ------------------------------ --------- 11.0/14.5 MB 1.5 MB/s eta 0:00:03\n",
      "   ------------------------------ --------- 11.2/14.5 MB 1.5 MB/s eta 0:00:03\n",
      "   ------------------------------- -------- 11.3/14.5 MB 1.5 MB/s eta 0:00:03\n",
      "   ------------------------------- -------- 11.4/14.5 MB 1.5 MB/s eta 0:00:02\n",
      "   -------------------------------- ------- 11.6/14.5 MB 1.5 MB/s eta 0:00:02\n",
      "   -------------------------------- ------- 11.7/14.5 MB 1.6 MB/s eta 0:00:02\n",
      "   -------------------------------- ------- 11.8/14.5 MB 1.5 MB/s eta 0:00:02\n",
      "   --------------------------------- ------ 12.0/14.5 MB 1.6 MB/s eta 0:00:02\n",
      "   --------------------------------- ------ 12.1/14.5 MB 1.6 MB/s eta 0:00:02\n",
      "   ---------------------------------- ----- 12.3/14.5 MB 1.6 MB/s eta 0:00:02\n",
      "   ---------------------------------- ----- 12.6/14.5 MB 1.6 MB/s eta 0:00:02\n",
      "   ----------------------------------- ---- 12.7/14.5 MB 1.6 MB/s eta 0:00:02\n",
      "   ----------------------------------- ---- 12.9/14.5 MB 1.6 MB/s eta 0:00:01\n",
      "   ------------------------------------ --- 13.1/14.5 MB 1.6 MB/s eta 0:00:01\n",
      "   ------------------------------------ --- 13.2/14.5 MB 1.7 MB/s eta 0:00:01\n",
      "   ------------------------------------ --- 13.3/14.5 MB 1.7 MB/s eta 0:00:01\n",
      "   ------------------------------------- -- 13.4/14.5 MB 1.7 MB/s eta 0:00:01\n",
      "   ------------------------------------- -- 13.6/14.5 MB 1.7 MB/s eta 0:00:01\n",
      "   ------------------------------------- -- 13.6/14.5 MB 1.7 MB/s eta 0:00:01\n",
      "   ------------------------------------- -- 13.7/14.5 MB 1.7 MB/s eta 0:00:01\n",
      "   -------------------------------------- - 13.9/14.5 MB 1.7 MB/s eta 0:00:01\n",
      "   -------------------------------------- - 14.0/14.5 MB 1.7 MB/s eta 0:00:01\n",
      "   ---------------------------------------  14.1/14.5 MB 1.7 MB/s eta 0:00:01\n",
      "   ---------------------------------------  14.2/14.5 MB 1.7 MB/s eta 0:00:01\n",
      "   ---------------------------------------  14.4/14.5 MB 1.7 MB/s eta 0:00:01\n",
      "   ---------------------------------------- 14.5/14.5 MB 1.7 MB/s eta 0:00:00\n",
      "Installing collected packages: mysql-connector-python\n",
      "Successfully installed mysql-connector-python-8.4.0\n"
     ]
    }
   ],
   "source": [
    "!pip install mysql-connector-python\n"
   ]
  },
  {
   "cell_type": "code",
   "execution_count": 27,
   "id": "21bbd0f8-95d8-4f88-bf31-c06e1e37a027",
   "metadata": {},
   "outputs": [
    {
     "name": "stdout",
     "output_type": "stream",
     "text": [
      "[('information_schema',), ('mysql',), ('org',), ('performance_schema',), ('schooldb',), ('smartcontact',), ('sys',)]\n"
     ]
    }
   ],
   "source": [
    "import mysql.connector as connection\n",
    "try:\n",
    "    mydb = connection.connect(host=\"localhost\", user=\"root\", passwd=\"aditya\",use_pure=True)\n",
    "    query = \"SHOW DATABASES\"\n",
    "    cursor = mydb.cursor()\n",
    "    cursor.execute(query)\n",
    "    print(cursor.fetchall())\n",
    "\n",
    "except Exception as e:\n",
    "    mydb.close()\n",
    "    print(str(e))"
   ]
  },
  {
   "cell_type": "code",
   "execution_count": 40,
   "id": "0938b156-6e9d-40df-b880-646a539e6c3b",
   "metadata": {},
   "outputs": [],
   "source": [
    "import mysql.connector as connection"
   ]
  },
  {
   "cell_type": "code",
   "execution_count": 46,
   "id": "04aa19e8-171f-436e-9e5c-b09a20784834",
   "metadata": {},
   "outputs": [],
   "source": [
    "conn = connection.connect(host=\"localhost\", user=\"root\", passwd=\"aditya\",use_pure=True)"
   ]
  },
  {
   "cell_type": "code",
   "execution_count": 47,
   "id": "5fa82b01-8da2-4b5d-97eb-9744b1927dc7",
   "metadata": {},
   "outputs": [],
   "source": [
    "cur = conn.cursor()"
   ]
  },
  {
   "cell_type": "code",
   "execution_count": 48,
   "id": "712a7122-abfe-449d-9ede-a004d5bb8a05",
   "metadata": {},
   "outputs": [],
   "source": [
    "cur.execute(\"show databases\")"
   ]
  },
  {
   "cell_type": "code",
   "execution_count": 49,
   "id": "eb03619d-917f-4739-a081-c6f7f6ca3d50",
   "metadata": {},
   "outputs": [],
   "source": [
    "res = cur.fetchall()"
   ]
  },
  {
   "cell_type": "code",
   "execution_count": 50,
   "id": "fe190e09-5655-4e8f-9479-4709b00001e8",
   "metadata": {},
   "outputs": [
    {
     "data": {
      "text/plain": [
       "[('information_schema',),\n",
       " ('mysql',),\n",
       " ('org',),\n",
       " ('performance_schema',),\n",
       " ('schooldb',),\n",
       " ('smartcontact',),\n",
       " ('student',),\n",
       " ('sys',)]"
      ]
     },
     "execution_count": 50,
     "metadata": {},
     "output_type": "execute_result"
    }
   ],
   "source": [
    "res"
   ]
  },
  {
   "cell_type": "code",
   "execution_count": 51,
   "id": "0bf97e17-2eae-4bd2-ad74-8f5c88f2a6ad",
   "metadata": {},
   "outputs": [
    {
     "data": {
      "text/plain": [
       "[('information_schema',),\n",
       " ('mysql',),\n",
       " ('org',),\n",
       " ('performance_schema',),\n",
       " ('schooldb',),\n",
       " ('smartcontact',),\n",
       " ('student',),\n",
       " ('sys',)]"
      ]
     },
     "execution_count": 51,
     "metadata": {},
     "output_type": "execute_result"
    }
   ],
   "source": [
    "res"
   ]
  },
  {
   "cell_type": "code",
   "execution_count": 52,
   "id": "44914830-8a58-4c0b-b711-3dab6d819bd7",
   "metadata": {},
   "outputs": [
    {
     "name": "stdout",
     "output_type": "stream",
     "text": [
      "('information_schema',)\n",
      "('mysql',)\n",
      "('org',)\n",
      "('performance_schema',)\n",
      "('schooldb',)\n",
      "('smartcontact',)\n",
      "('student',)\n",
      "('sys',)\n"
     ]
    }
   ],
   "source": [
    "for i in res:\n",
    "    print(i)"
   ]
  },
  {
   "cell_type": "code",
   "execution_count": 56,
   "id": "38bc7b9d-d06e-47cc-912b-3b10fb8353eb",
   "metadata": {},
   "outputs": [],
   "source": [
    "conn = connection.connect(host=\"localhost\", database=\"student\", user=\"root\", passwd=\"aditya\",use_pure=True)"
   ]
  },
  {
   "cell_type": "code",
   "execution_count": 57,
   "id": "9caec499-a6b9-48c2-9a13-f647a3c936e0",
   "metadata": {},
   "outputs": [],
   "source": [
    "cur = conn.cursor()"
   ]
  },
  {
   "cell_type": "code",
   "execution_count": 59,
   "id": "f16fe981-8d92-4748-bb10-3c27d09e7df0",
   "metadata": {},
   "outputs": [],
   "source": [
    "query = \"CREATE TABLE studentdetails(studentId INT(10) auto_increment primary key,firstName varchar(50),lastName varchar(60),RegistrationDate date,class varchar(20),section varchar(10))\""
   ]
  },
  {
   "cell_type": "code",
   "execution_count": 60,
   "id": "110a70d7-1044-43fc-b312-7c7c09c573c2",
   "metadata": {},
   "outputs": [],
   "source": [
    "cur.execute(query)"
   ]
  },
  {
   "cell_type": "code",
   "execution_count": 61,
   "id": "6a7ca929-1fa8-4369-8c35-1801a7eb2099",
   "metadata": {},
   "outputs": [
    {
     "data": {
      "text/plain": [
       "True"
      ]
     },
     "execution_count": 61,
     "metadata": {},
     "output_type": "execute_result"
    }
   ],
   "source": [
    "conn.is_connected()"
   ]
  },
  {
   "cell_type": "code",
   "execution_count": 62,
   "id": "0e6a47cb-1fbb-49a5-9aec-fd68ed84c608",
   "metadata": {},
   "outputs": [
    {
     "name": "stdout",
     "output_type": "stream",
     "text": [
      "data inserted into student table\n"
     ]
    }
   ],
   "source": [
    "import mysql.connector as connection\n",
    "try:\n",
    "    mydb = connection.connect(host=\"localhost\",database=\"student\", user=\"root\", passwd=\"aditya\",use_pure=True)\n",
    "    query = \"insert into studentdetails values(1, 'aditya', 'singh', '2023-09-23', 'MCA', 'A')\"\n",
    "    cursor = mydb.cursor()\n",
    "    cursor.execute(query)\n",
    "    print(\"data inserted into student table\")\n",
    "    mydb.commit()\n",
    "    mydb.close()\n",
    "\n",
    "except Exception as e:\n",
    "    mydb.close()\n",
    "    print(str(e))"
   ]
  },
  {
   "cell_type": "code",
   "execution_count": 65,
   "id": "d9b3b712-c309-4ed6-95f2-3d753d3175da",
   "metadata": {},
   "outputs": [
    {
     "name": "stdout",
     "output_type": "stream",
     "text": [
      "(1, 'aditya', 'singh', datetime.date(2023, 9, 23), 'MCA', 'A')\n"
     ]
    }
   ],
   "source": [
    "import mysql.connector as connection\n",
    "try:\n",
    "    mydb = connection.connect(host=\"localhost\",database=\"student\", user=\"root\", passwd=\"aditya\",use_pure=True)\n",
    "    query = \"select * from studentdetails\"\n",
    "    cursor = mydb.cursor()\n",
    "    cursor.execute(query)\n",
    "    res = cursor.fetchall()\n",
    "    for i in res:\n",
    "        print(i)\n",
    "    mydb.commit()\n",
    "    mydb.close()\n",
    "\n",
    "except Exception as e:\n",
    "    mydb.close()\n",
    "    print(str(e))"
   ]
  },
  {
   "cell_type": "code",
   "execution_count": 87,
   "id": "6b8cf6f2-9042-412e-aae1-526bc79909e3",
   "metadata": {},
   "outputs": [
    {
     "name": "stdout",
     "output_type": "stream",
     "text": [
      "   studentId firstName lastName RegistrationDate class section\n",
      "0          1    aditya    singh       2023-09-23   MCA       A\n"
     ]
    },
    {
     "name": "stderr",
     "output_type": "stream",
     "text": [
      "C:\\Users\\adity\\AppData\\Local\\Temp\\ipykernel_8200\\3267992177.py:12: UserWarning: pandas only supports SQLAlchemy connectable (engine/connection) or database string URI or sqlite3 DBAPI2 connection. Other DBAPI2 objects are not tested. Please consider using SQLAlchemy.\n",
      "  result_dataFrame = pd.read_sql(query,mydb)\n"
     ]
    }
   ],
   "source": [
    "import mysql.connector as connection\n",
    "import pandas as pd\n",
    "try:\n",
    "    mydb = connection.connect(host=\"localhost\",database=\"student\", user=\"root\", passwd=\"aditya\",use_pure=True)\n",
    "    query = \"select * from studentdetails\"\n",
    "    cursor = mydb.cursor()\n",
    "    #cursor.execute(query)\n",
    "    #res = cursor.fetchall()\n",
    "    #for i in res:\n",
    "     #   print(i)\n",
    "    \n",
    "    result_dataFrame = pd.read_sql(query,mydb)\n",
    "    print(result_dataFrame)\n",
    "    mydb.commit()\n",
    "    mydb.close()\n",
    "\n",
    "except Exception as e:\n",
    "    mydb.close()\n",
    "    print(str(e))"
   ]
  },
  {
   "cell_type": "code",
   "execution_count": 88,
   "id": "6a71014f-130a-436d-afea-a1f1166f1d90",
   "metadata": {},
   "outputs": [
    {
     "name": "stderr",
     "output_type": "stream",
     "text": [
      "C:\\Users\\adity\\AppData\\Local\\Temp\\ipykernel_8200\\2430363543.py:2: UserWarning: pandas only supports SQLAlchemy connectable (engine/connection) or database string URI or sqlite3 DBAPI2 connection. Other DBAPI2 objects are not tested. Please consider using SQLAlchemy.\n",
      "  a = pd.read_sql(\"select firstName, lastName from studentdetails\",mydb)\n"
     ]
    }
   ],
   "source": [
    "mydb = connection.connect(host=\"localhost\",database=\"student\", user=\"root\", passwd=\"aditya\",use_pure=True)\n",
    "a = pd.read_sql(\"select firstName, lastName from studentdetails\",mydb)"
   ]
  },
  {
   "cell_type": "code",
   "execution_count": 89,
   "id": "07e14703-40e7-414d-aa37-2a4c85d451fa",
   "metadata": {},
   "outputs": [
    {
     "data": {
      "text/html": [
       "<div>\n",
       "<style scoped>\n",
       "    .dataframe tbody tr th:only-of-type {\n",
       "        vertical-align: middle;\n",
       "    }\n",
       "\n",
       "    .dataframe tbody tr th {\n",
       "        vertical-align: top;\n",
       "    }\n",
       "\n",
       "    .dataframe thead th {\n",
       "        text-align: right;\n",
       "    }\n",
       "</style>\n",
       "<table border=\"1\" class=\"dataframe\">\n",
       "  <thead>\n",
       "    <tr style=\"text-align: right;\">\n",
       "      <th></th>\n",
       "      <th>firstName</th>\n",
       "      <th>lastName</th>\n",
       "    </tr>\n",
       "  </thead>\n",
       "  <tbody>\n",
       "    <tr>\n",
       "      <th>0</th>\n",
       "      <td>aditya</td>\n",
       "      <td>singh</td>\n",
       "    </tr>\n",
       "  </tbody>\n",
       "</table>\n",
       "</div>"
      ],
      "text/plain": [
       "  firstName lastName\n",
       "0    aditya    singh"
      ]
     },
     "execution_count": 89,
     "metadata": {},
     "output_type": "execute_result"
    }
   ],
   "source": [
    "a"
   ]
  },
  {
   "cell_type": "code",
   "execution_count": 90,
   "id": "9255477d-4e08-43d8-8635-32f917cad190",
   "metadata": {},
   "outputs": [],
   "source": [
    "a.to_csv(\"mydata.csv\")"
   ]
  },
  {
   "cell_type": "code",
   "execution_count": 92,
   "id": "6132611c-4d73-4bfc-bee1-21a1a52c7bab",
   "metadata": {},
   "outputs": [
    {
     "data": {
      "text/plain": [
       "<mysql.connector.connection.MySQLConnection at 0x1e5a7fde310>"
      ]
     },
     "execution_count": 92,
     "metadata": {},
     "output_type": "execute_result"
    }
   ],
   "source": [
    "mydb = connection.connect(host=\"localhost\",database=\"student\", user=\"root\", passwd=\"aditya\",use_pure=True)\n",
    "mydb"
   ]
  },
  {
   "cell_type": "code",
   "execution_count": 93,
   "id": "c1edc3b7-32ce-4ab0-b4ac-cdf1cdcabda6",
   "metadata": {},
   "outputs": [
    {
     "ename": "ProgrammingError",
     "evalue": "1050 (42S01): Table 'mydata' already exists",
     "output_type": "error",
     "traceback": [
      "\u001b[1;31m---------------------------------------------------------------------------\u001b[0m",
      "\u001b[1;31mProgrammingError\u001b[0m                          Traceback (most recent call last)",
      "Cell \u001b[1;32mIn[93], line 3\u001b[0m\n\u001b[0;32m      1\u001b[0m cur \u001b[38;5;241m=\u001b[39m mydb\u001b[38;5;241m.\u001b[39mcursor()\n\u001b[0;32m      2\u001b[0m query \u001b[38;5;241m=\u001b[39m \u001b[38;5;124m\"\u001b[39m\u001b[38;5;124mcreate table mydata(n1 varchar(60), n2 varchar(60))\u001b[39m\u001b[38;5;124m\"\u001b[39m\n\u001b[1;32m----> 3\u001b[0m cur\u001b[38;5;241m.\u001b[39mexecute(query)\n",
      "File \u001b[1;32m~\\anaconda3\\Lib\\site-packages\\mysql\\connector\\cursor.py:748\u001b[0m, in \u001b[0;36mMySQLCursor.execute\u001b[1;34m(self, operation, params, multi)\u001b[0m\n\u001b[0;32m    745\u001b[0m     \u001b[38;5;28;01mreturn\u001b[39;00m \u001b[38;5;28mself\u001b[39m\u001b[38;5;241m.\u001b[39m_execute_iter(\u001b[38;5;28mself\u001b[39m\u001b[38;5;241m.\u001b[39m_connection\u001b[38;5;241m.\u001b[39mcmd_query_iter(stmt))\n\u001b[0;32m    747\u001b[0m \u001b[38;5;28;01mtry\u001b[39;00m:\n\u001b[1;32m--> 748\u001b[0m     \u001b[38;5;28mself\u001b[39m\u001b[38;5;241m.\u001b[39m_handle_result(\u001b[38;5;28mself\u001b[39m\u001b[38;5;241m.\u001b[39m_connection\u001b[38;5;241m.\u001b[39mcmd_query(stmt))\n\u001b[0;32m    749\u001b[0m \u001b[38;5;28;01mexcept\u001b[39;00m InterfaceError \u001b[38;5;28;01mas\u001b[39;00m err:\n\u001b[0;32m    750\u001b[0m     \u001b[38;5;28;01mif\u001b[39;00m \u001b[38;5;28mself\u001b[39m\u001b[38;5;241m.\u001b[39m_connection\u001b[38;5;241m.\u001b[39mhave_next_result:\n",
      "File \u001b[1;32m~\\anaconda3\\Lib\\site-packages\\mysql\\connector\\opentelemetry\\context_propagation.py:102\u001b[0m, in \u001b[0;36mwith_context_propagation.<locals>.wrapper\u001b[1;34m(cnx, *args, **kwargs)\u001b[0m\n\u001b[0;32m    100\u001b[0m \u001b[38;5;250m\u001b[39m\u001b[38;5;124;03m\"\"\"Context propagation decorator.\"\"\"\u001b[39;00m\n\u001b[0;32m    101\u001b[0m \u001b[38;5;28;01mif\u001b[39;00m \u001b[38;5;129;01mnot\u001b[39;00m OTEL_ENABLED \u001b[38;5;129;01mor\u001b[39;00m \u001b[38;5;129;01mnot\u001b[39;00m cnx\u001b[38;5;241m.\u001b[39motel_context_propagation:\n\u001b[1;32m--> 102\u001b[0m     \u001b[38;5;28;01mreturn\u001b[39;00m method(cnx, \u001b[38;5;241m*\u001b[39margs, \u001b[38;5;241m*\u001b[39m\u001b[38;5;241m*\u001b[39mkwargs)\n\u001b[0;32m    104\u001b[0m current_span \u001b[38;5;241m=\u001b[39m trace\u001b[38;5;241m.\u001b[39mget_current_span()\n\u001b[0;32m    105\u001b[0m tp_header \u001b[38;5;241m=\u001b[39m \u001b[38;5;28;01mNone\u001b[39;00m\n",
      "File \u001b[1;32m~\\anaconda3\\Lib\\site-packages\\mysql\\connector\\connection.py:861\u001b[0m, in \u001b[0;36mMySQLConnection.cmd_query\u001b[1;34m(self, query, raw, buffered, raw_as_string)\u001b[0m\n\u001b[0;32m    859\u001b[0m query \u001b[38;5;241m=\u001b[39m \u001b[38;5;28mbytes\u001b[39m(packet)\n\u001b[0;32m    860\u001b[0m \u001b[38;5;28;01mtry\u001b[39;00m:\n\u001b[1;32m--> 861\u001b[0m     result \u001b[38;5;241m=\u001b[39m \u001b[38;5;28mself\u001b[39m\u001b[38;5;241m.\u001b[39m_handle_result(\u001b[38;5;28mself\u001b[39m\u001b[38;5;241m.\u001b[39m_send_cmd(ServerCmd\u001b[38;5;241m.\u001b[39mQUERY, query))\n\u001b[0;32m    862\u001b[0m \u001b[38;5;28;01mexcept\u001b[39;00m ProgrammingError \u001b[38;5;28;01mas\u001b[39;00m err:\n\u001b[0;32m    863\u001b[0m     \u001b[38;5;28;01mif\u001b[39;00m err\u001b[38;5;241m.\u001b[39merrno \u001b[38;5;241m==\u001b[39m \u001b[38;5;241m3948\u001b[39m \u001b[38;5;129;01mand\u001b[39;00m \u001b[38;5;124m\"\u001b[39m\u001b[38;5;124mLoading local data is disabled\u001b[39m\u001b[38;5;124m\"\u001b[39m \u001b[38;5;129;01min\u001b[39;00m err\u001b[38;5;241m.\u001b[39mmsg:\n",
      "File \u001b[1;32m~\\anaconda3\\Lib\\site-packages\\mysql\\connector\\connection.py:637\u001b[0m, in \u001b[0;36mMySQLConnection._handle_result\u001b[1;34m(self, packet)\u001b[0m\n\u001b[0;32m    635\u001b[0m     \u001b[38;5;28;01mreturn\u001b[39;00m \u001b[38;5;28mself\u001b[39m\u001b[38;5;241m.\u001b[39m_handle_eof(packet)\n\u001b[0;32m    636\u001b[0m \u001b[38;5;28;01mif\u001b[39;00m packet[\u001b[38;5;241m4\u001b[39m] \u001b[38;5;241m==\u001b[39m \u001b[38;5;241m255\u001b[39m:\n\u001b[1;32m--> 637\u001b[0m     \u001b[38;5;28;01mraise\u001b[39;00m get_exception(packet)\n\u001b[0;32m    639\u001b[0m \u001b[38;5;66;03m# We have a text result set\u001b[39;00m\n\u001b[0;32m    640\u001b[0m column_count \u001b[38;5;241m=\u001b[39m \u001b[38;5;28mself\u001b[39m\u001b[38;5;241m.\u001b[39m_protocol\u001b[38;5;241m.\u001b[39mparse_column_count(packet)\n",
      "\u001b[1;31mProgrammingError\u001b[0m: 1050 (42S01): Table 'mydata' already exists"
     ]
    }
   ],
   "source": [
    "cur = mydb.cursor()\n",
    "query = \"create table mydata(n1 varchar(60), n2 varchar(60))\"\n",
    "cur.execute(query)"
   ]
  },
  {
   "cell_type": "code",
   "execution_count": 94,
   "id": "834e7078-7494-4d65-b7c8-462d1d61d098",
   "metadata": {},
   "outputs": [
    {
     "name": "stderr",
     "output_type": "stream",
     "text": [
      "C:\\Users\\adity\\AppData\\Local\\Temp\\ipykernel_8200\\3141297180.py:1: UserWarning: pandas only supports SQLAlchemy connectable (engine/connection) or database string URI or sqlite3 DBAPI2 connection. Other DBAPI2 objects are not tested. Please consider using SQLAlchemy.\n",
      "  a.to_sql('mydata',mydb)\n"
     ]
    },
    {
     "ename": "DatabaseError",
     "evalue": "Execution failed on sql '\n        SELECT\n            name\n        FROM\n            sqlite_master\n        WHERE\n            type IN ('table', 'view')\n            AND name=?;\n        ': Not all parameters were used in the SQL statement",
     "output_type": "error",
     "traceback": [
      "\u001b[1;31m---------------------------------------------------------------------------\u001b[0m",
      "\u001b[1;31mProgrammingError\u001b[0m                          Traceback (most recent call last)",
      "File \u001b[1;32m~\\anaconda3\\Lib\\site-packages\\pandas\\io\\sql.py:2262\u001b[0m, in \u001b[0;36mSQLiteDatabase.execute\u001b[1;34m(self, sql, params)\u001b[0m\n\u001b[0;32m   2261\u001b[0m \u001b[38;5;28;01mtry\u001b[39;00m:\n\u001b[1;32m-> 2262\u001b[0m     cur\u001b[38;5;241m.\u001b[39mexecute(sql, \u001b[38;5;241m*\u001b[39margs)\n\u001b[0;32m   2263\u001b[0m     \u001b[38;5;28;01mreturn\u001b[39;00m cur\n",
      "File \u001b[1;32m~\\anaconda3\\Lib\\site-packages\\mysql\\connector\\cursor.py:733\u001b[0m, in \u001b[0;36mMySQLCursor.execute\u001b[1;34m(self, operation, params, multi)\u001b[0m\n\u001b[0;32m    732\u001b[0m     \u001b[38;5;28;01mif\u001b[39;00m psub\u001b[38;5;241m.\u001b[39mremaining \u001b[38;5;241m!=\u001b[39m \u001b[38;5;241m0\u001b[39m:\n\u001b[1;32m--> 733\u001b[0m         \u001b[38;5;28;01mraise\u001b[39;00m ProgrammingError(\n\u001b[0;32m    734\u001b[0m             \u001b[38;5;124m\"\u001b[39m\u001b[38;5;124mNot all parameters were used in the SQL statement\u001b[39m\u001b[38;5;124m\"\u001b[39m\n\u001b[0;32m    735\u001b[0m         )\n\u001b[0;32m    736\u001b[0m \u001b[38;5;28;01melse\u001b[39;00m:\n",
      "\u001b[1;31mProgrammingError\u001b[0m: Not all parameters were used in the SQL statement",
      "\nThe above exception was the direct cause of the following exception:\n",
      "\u001b[1;31mDatabaseError\u001b[0m                             Traceback (most recent call last)",
      "Cell \u001b[1;32mIn[94], line 1\u001b[0m\n\u001b[1;32m----> 1\u001b[0m a\u001b[38;5;241m.\u001b[39mto_sql(\u001b[38;5;124m'\u001b[39m\u001b[38;5;124mmydata\u001b[39m\u001b[38;5;124m'\u001b[39m,mydb)\n",
      "File \u001b[1;32m~\\anaconda3\\Lib\\site-packages\\pandas\\util\\_decorators.py:333\u001b[0m, in \u001b[0;36mdeprecate_nonkeyword_arguments.<locals>.decorate.<locals>.wrapper\u001b[1;34m(*args, **kwargs)\u001b[0m\n\u001b[0;32m    327\u001b[0m \u001b[38;5;28;01mif\u001b[39;00m \u001b[38;5;28mlen\u001b[39m(args) \u001b[38;5;241m>\u001b[39m num_allow_args:\n\u001b[0;32m    328\u001b[0m     warnings\u001b[38;5;241m.\u001b[39mwarn(\n\u001b[0;32m    329\u001b[0m         msg\u001b[38;5;241m.\u001b[39mformat(arguments\u001b[38;5;241m=\u001b[39m_format_argument_list(allow_args)),\n\u001b[0;32m    330\u001b[0m         \u001b[38;5;167;01mFutureWarning\u001b[39;00m,\n\u001b[0;32m    331\u001b[0m         stacklevel\u001b[38;5;241m=\u001b[39mfind_stack_level(),\n\u001b[0;32m    332\u001b[0m     )\n\u001b[1;32m--> 333\u001b[0m \u001b[38;5;28;01mreturn\u001b[39;00m func(\u001b[38;5;241m*\u001b[39margs, \u001b[38;5;241m*\u001b[39m\u001b[38;5;241m*\u001b[39mkwargs)\n",
      "File \u001b[1;32m~\\anaconda3\\Lib\\site-packages\\pandas\\core\\generic.py:3008\u001b[0m, in \u001b[0;36mNDFrame.to_sql\u001b[1;34m(self, name, con, schema, if_exists, index, index_label, chunksize, dtype, method)\u001b[0m\n\u001b[0;32m   2813\u001b[0m \u001b[38;5;250m\u001b[39m\u001b[38;5;124;03m\"\"\"\u001b[39;00m\n\u001b[0;32m   2814\u001b[0m \u001b[38;5;124;03mWrite records stored in a DataFrame to a SQL database.\u001b[39;00m\n\u001b[0;32m   2815\u001b[0m \n\u001b[1;32m   (...)\u001b[0m\n\u001b[0;32m   3004\u001b[0m \u001b[38;5;124;03m[(1,), (None,), (2,)]\u001b[39;00m\n\u001b[0;32m   3005\u001b[0m \u001b[38;5;124;03m\"\"\"\u001b[39;00m  \u001b[38;5;66;03m# noqa: E501\u001b[39;00m\n\u001b[0;32m   3006\u001b[0m \u001b[38;5;28;01mfrom\u001b[39;00m \u001b[38;5;21;01mpandas\u001b[39;00m\u001b[38;5;21;01m.\u001b[39;00m\u001b[38;5;21;01mio\u001b[39;00m \u001b[38;5;28;01mimport\u001b[39;00m sql\n\u001b[1;32m-> 3008\u001b[0m \u001b[38;5;28;01mreturn\u001b[39;00m sql\u001b[38;5;241m.\u001b[39mto_sql(\n\u001b[0;32m   3009\u001b[0m     \u001b[38;5;28mself\u001b[39m,\n\u001b[0;32m   3010\u001b[0m     name,\n\u001b[0;32m   3011\u001b[0m     con,\n\u001b[0;32m   3012\u001b[0m     schema\u001b[38;5;241m=\u001b[39mschema,\n\u001b[0;32m   3013\u001b[0m     if_exists\u001b[38;5;241m=\u001b[39mif_exists,\n\u001b[0;32m   3014\u001b[0m     index\u001b[38;5;241m=\u001b[39mindex,\n\u001b[0;32m   3015\u001b[0m     index_label\u001b[38;5;241m=\u001b[39mindex_label,\n\u001b[0;32m   3016\u001b[0m     chunksize\u001b[38;5;241m=\u001b[39mchunksize,\n\u001b[0;32m   3017\u001b[0m     dtype\u001b[38;5;241m=\u001b[39mdtype,\n\u001b[0;32m   3018\u001b[0m     method\u001b[38;5;241m=\u001b[39mmethod,\n\u001b[0;32m   3019\u001b[0m )\n",
      "File \u001b[1;32m~\\anaconda3\\Lib\\site-packages\\pandas\\io\\sql.py:788\u001b[0m, in \u001b[0;36mto_sql\u001b[1;34m(frame, name, con, schema, if_exists, index, index_label, chunksize, dtype, method, engine, **engine_kwargs)\u001b[0m\n\u001b[0;32m    783\u001b[0m     \u001b[38;5;28;01mraise\u001b[39;00m \u001b[38;5;167;01mNotImplementedError\u001b[39;00m(\n\u001b[0;32m    784\u001b[0m         \u001b[38;5;124m\"\u001b[39m\u001b[38;5;124m'\u001b[39m\u001b[38;5;124mframe\u001b[39m\u001b[38;5;124m'\u001b[39m\u001b[38;5;124m argument should be either a Series or a DataFrame\u001b[39m\u001b[38;5;124m\"\u001b[39m\n\u001b[0;32m    785\u001b[0m     )\n\u001b[0;32m    787\u001b[0m \u001b[38;5;28;01mwith\u001b[39;00m pandasSQL_builder(con, schema\u001b[38;5;241m=\u001b[39mschema, need_transaction\u001b[38;5;241m=\u001b[39m\u001b[38;5;28;01mTrue\u001b[39;00m) \u001b[38;5;28;01mas\u001b[39;00m pandas_sql:\n\u001b[1;32m--> 788\u001b[0m     \u001b[38;5;28;01mreturn\u001b[39;00m pandas_sql\u001b[38;5;241m.\u001b[39mto_sql(\n\u001b[0;32m    789\u001b[0m         frame,\n\u001b[0;32m    790\u001b[0m         name,\n\u001b[0;32m    791\u001b[0m         if_exists\u001b[38;5;241m=\u001b[39mif_exists,\n\u001b[0;32m    792\u001b[0m         index\u001b[38;5;241m=\u001b[39mindex,\n\u001b[0;32m    793\u001b[0m         index_label\u001b[38;5;241m=\u001b[39mindex_label,\n\u001b[0;32m    794\u001b[0m         schema\u001b[38;5;241m=\u001b[39mschema,\n\u001b[0;32m    795\u001b[0m         chunksize\u001b[38;5;241m=\u001b[39mchunksize,\n\u001b[0;32m    796\u001b[0m         dtype\u001b[38;5;241m=\u001b[39mdtype,\n\u001b[0;32m    797\u001b[0m         method\u001b[38;5;241m=\u001b[39mmethod,\n\u001b[0;32m    798\u001b[0m         engine\u001b[38;5;241m=\u001b[39mengine,\n\u001b[0;32m    799\u001b[0m         \u001b[38;5;241m*\u001b[39m\u001b[38;5;241m*\u001b[39mengine_kwargs,\n\u001b[0;32m    800\u001b[0m     )\n",
      "File \u001b[1;32m~\\anaconda3\\Lib\\site-packages\\pandas\\io\\sql.py:2438\u001b[0m, in \u001b[0;36mSQLiteDatabase.to_sql\u001b[1;34m(self, frame, name, if_exists, index, index_label, schema, chunksize, dtype, method, engine, **engine_kwargs)\u001b[0m\n\u001b[0;32m   2427\u001b[0m             \u001b[38;5;28;01mraise\u001b[39;00m \u001b[38;5;167;01mValueError\u001b[39;00m(\u001b[38;5;124mf\u001b[39m\u001b[38;5;124m\"\u001b[39m\u001b[38;5;132;01m{\u001b[39;00mcol\u001b[38;5;132;01m}\u001b[39;00m\u001b[38;5;124m (\u001b[39m\u001b[38;5;132;01m{\u001b[39;00mmy_type\u001b[38;5;132;01m}\u001b[39;00m\u001b[38;5;124m) not a string\u001b[39m\u001b[38;5;124m\"\u001b[39m)\n\u001b[0;32m   2429\u001b[0m table \u001b[38;5;241m=\u001b[39m SQLiteTable(\n\u001b[0;32m   2430\u001b[0m     name,\n\u001b[0;32m   2431\u001b[0m     \u001b[38;5;28mself\u001b[39m,\n\u001b[1;32m   (...)\u001b[0m\n\u001b[0;32m   2436\u001b[0m     dtype\u001b[38;5;241m=\u001b[39mdtype,\n\u001b[0;32m   2437\u001b[0m )\n\u001b[1;32m-> 2438\u001b[0m table\u001b[38;5;241m.\u001b[39mcreate()\n\u001b[0;32m   2439\u001b[0m \u001b[38;5;28;01mreturn\u001b[39;00m table\u001b[38;5;241m.\u001b[39minsert(chunksize, method)\n",
      "File \u001b[1;32m~\\anaconda3\\Lib\\site-packages\\pandas\\io\\sql.py:925\u001b[0m, in \u001b[0;36mSQLTable.create\u001b[1;34m(self)\u001b[0m\n\u001b[0;32m    924\u001b[0m \u001b[38;5;28;01mdef\u001b[39;00m \u001b[38;5;21mcreate\u001b[39m(\u001b[38;5;28mself\u001b[39m) \u001b[38;5;241m-\u001b[39m\u001b[38;5;241m>\u001b[39m \u001b[38;5;28;01mNone\u001b[39;00m:\n\u001b[1;32m--> 925\u001b[0m     \u001b[38;5;28;01mif\u001b[39;00m \u001b[38;5;28mself\u001b[39m\u001b[38;5;241m.\u001b[39mexists():\n\u001b[0;32m    926\u001b[0m         \u001b[38;5;28;01mif\u001b[39;00m \u001b[38;5;28mself\u001b[39m\u001b[38;5;241m.\u001b[39mif_exists \u001b[38;5;241m==\u001b[39m \u001b[38;5;124m\"\u001b[39m\u001b[38;5;124mfail\u001b[39m\u001b[38;5;124m\"\u001b[39m:\n\u001b[0;32m    927\u001b[0m             \u001b[38;5;28;01mraise\u001b[39;00m \u001b[38;5;167;01mValueError\u001b[39;00m(\u001b[38;5;124mf\u001b[39m\u001b[38;5;124m\"\u001b[39m\u001b[38;5;124mTable \u001b[39m\u001b[38;5;124m'\u001b[39m\u001b[38;5;132;01m{\u001b[39;00m\u001b[38;5;28mself\u001b[39m\u001b[38;5;241m.\u001b[39mname\u001b[38;5;132;01m}\u001b[39;00m\u001b[38;5;124m'\u001b[39m\u001b[38;5;124m already exists.\u001b[39m\u001b[38;5;124m\"\u001b[39m)\n",
      "File \u001b[1;32m~\\anaconda3\\Lib\\site-packages\\pandas\\io\\sql.py:911\u001b[0m, in \u001b[0;36mSQLTable.exists\u001b[1;34m(self)\u001b[0m\n\u001b[0;32m    910\u001b[0m \u001b[38;5;28;01mdef\u001b[39;00m \u001b[38;5;21mexists\u001b[39m(\u001b[38;5;28mself\u001b[39m):\n\u001b[1;32m--> 911\u001b[0m     \u001b[38;5;28;01mreturn\u001b[39;00m \u001b[38;5;28mself\u001b[39m\u001b[38;5;241m.\u001b[39mpd_sql\u001b[38;5;241m.\u001b[39mhas_table(\u001b[38;5;28mself\u001b[39m\u001b[38;5;241m.\u001b[39mname, \u001b[38;5;28mself\u001b[39m\u001b[38;5;241m.\u001b[39mschema)\n",
      "File \u001b[1;32m~\\anaconda3\\Lib\\site-packages\\pandas\\io\\sql.py:2453\u001b[0m, in \u001b[0;36mSQLiteDatabase.has_table\u001b[1;34m(self, name, schema)\u001b[0m\n\u001b[0;32m   2442\u001b[0m wld \u001b[38;5;241m=\u001b[39m \u001b[38;5;124m\"\u001b[39m\u001b[38;5;124m?\u001b[39m\u001b[38;5;124m\"\u001b[39m\n\u001b[0;32m   2443\u001b[0m query \u001b[38;5;241m=\u001b[39m \u001b[38;5;124mf\u001b[39m\u001b[38;5;124m\"\"\"\u001b[39m\n\u001b[0;32m   2444\u001b[0m \u001b[38;5;124mSELECT\u001b[39m\n\u001b[0;32m   2445\u001b[0m \u001b[38;5;124m    name\u001b[39m\n\u001b[1;32m   (...)\u001b[0m\n\u001b[0;32m   2450\u001b[0m \u001b[38;5;124m    AND name=\u001b[39m\u001b[38;5;132;01m{\u001b[39;00mwld\u001b[38;5;132;01m}\u001b[39;00m\u001b[38;5;124m;\u001b[39m\n\u001b[0;32m   2451\u001b[0m \u001b[38;5;124m\u001b[39m\u001b[38;5;124m\"\"\"\u001b[39m\n\u001b[1;32m-> 2453\u001b[0m \u001b[38;5;28;01mreturn\u001b[39;00m \u001b[38;5;28mlen\u001b[39m(\u001b[38;5;28mself\u001b[39m\u001b[38;5;241m.\u001b[39mexecute(query, [name])\u001b[38;5;241m.\u001b[39mfetchall()) \u001b[38;5;241m>\u001b[39m \u001b[38;5;241m0\u001b[39m\n",
      "File \u001b[1;32m~\\anaconda3\\Lib\\site-packages\\pandas\\io\\sql.py:2274\u001b[0m, in \u001b[0;36mSQLiteDatabase.execute\u001b[1;34m(self, sql, params)\u001b[0m\n\u001b[0;32m   2271\u001b[0m     \u001b[38;5;28;01mraise\u001b[39;00m ex \u001b[38;5;28;01mfrom\u001b[39;00m \u001b[38;5;21;01minner_exc\u001b[39;00m\n\u001b[0;32m   2273\u001b[0m ex \u001b[38;5;241m=\u001b[39m DatabaseError(\u001b[38;5;124mf\u001b[39m\u001b[38;5;124m\"\u001b[39m\u001b[38;5;124mExecution failed on sql \u001b[39m\u001b[38;5;124m'\u001b[39m\u001b[38;5;132;01m{\u001b[39;00msql\u001b[38;5;132;01m}\u001b[39;00m\u001b[38;5;124m'\u001b[39m\u001b[38;5;124m: \u001b[39m\u001b[38;5;132;01m{\u001b[39;00mexc\u001b[38;5;132;01m}\u001b[39;00m\u001b[38;5;124m\"\u001b[39m)\n\u001b[1;32m-> 2274\u001b[0m \u001b[38;5;28;01mraise\u001b[39;00m ex \u001b[38;5;28;01mfrom\u001b[39;00m \u001b[38;5;21;01mexc\u001b[39;00m\n",
      "\u001b[1;31mDatabaseError\u001b[0m: Execution failed on sql '\n        SELECT\n            name\n        FROM\n            sqlite_master\n        WHERE\n            type IN ('table', 'view')\n            AND name=?;\n        ': Not all parameters were used in the SQL statement"
     ]
    }
   ],
   "source": [
    "a.to_sql('mydata',mydb)"
   ]
  },
  {
   "cell_type": "code",
   "execution_count": null,
   "id": "6e8fd02d-2c61-4e69-ab9c-ae238acb6c63",
   "metadata": {},
   "outputs": [],
   "source": []
  }
 ],
 "metadata": {
  "kernelspec": {
   "display_name": "Python 3 (ipykernel)",
   "language": "python",
   "name": "python3"
  },
  "language_info": {
   "codemirror_mode": {
    "name": "ipython",
    "version": 3
   },
   "file_extension": ".py",
   "mimetype": "text/x-python",
   "name": "python",
   "nbconvert_exporter": "python",
   "pygments_lexer": "ipython3",
   "version": "3.11.7"
  }
 },
 "nbformat": 4,
 "nbformat_minor": 5
}
