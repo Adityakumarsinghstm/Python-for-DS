{
 "cells": [
  {
   "cell_type": "markdown",
   "id": "223388b5-06f7-4499-a5b5-0326926a3bd4",
   "metadata": {},
   "source": [
    "# Input output"
   ]
  },
  {
   "cell_type": "code",
   "execution_count": 5,
   "id": "1aa129e2-5e9f-4d47-93cc-575c88708347",
   "metadata": {},
   "outputs": [
    {
     "name": "stdout",
     "output_type": "stream",
     "text": [
      "My name is aditya !\n",
      "\n",
      "I am a backend developer !\n",
      "\n",
      "I love to write code in java and python ! \n",
      "\n"
     ]
    }
   ],
   "source": [
    "#program to read line in existing file\n",
    "\n",
    "file_obj = open(\"my-new-file.txt\",\"r\")\n",
    "lines = file_obj.readlines()\n",
    "for line in lines:\n",
    "    print(line)\n",
    "\n",
    "file_obj.close()"
   ]
  },
  {
   "cell_type": "code",
   "execution_count": 4,
   "id": "76664dca-ae33-4bb3-8851-1264589214dd",
   "metadata": {},
   "outputs": [
    {
     "name": "stdout",
     "output_type": "stream",
     "text": [
      "writing content into file\n"
     ]
    }
   ],
   "source": [
    "# program to write some line in file\n",
    "print(\"writing content into file\")\n",
    "f = open(\"my-new-file.txt\",\"w\")\n",
    "f.write(\"My name is aditya !\\n\")\n",
    "f.write(\"I am a backend developer !\\n\")\n",
    "f.write(\"I love to write code in java and python ! \\n\")\n",
    "f.close()"
   ]
  },
  {
   "cell_type": "code",
   "execution_count": 6,
   "id": "3a52ed24-bb92-4159-b35b-36b94af69ac0",
   "metadata": {},
   "outputs": [
    {
     "name": "stdout",
     "output_type": "stream",
     "text": [
      "My name is aditya !\n",
      "I am a backend developer !\n",
      "I love to write code in java and python ! \n"
     ]
    }
   ],
   "source": [
    "# use file and with statement\n",
    "with open(\"my-new-file.txt\",\"r\") as f:\n",
    "    lines = f.readlines()\n",
    "    for line in lines:\n",
    "        print(line,end='')"
   ]
  },
  {
   "cell_type": "code",
   "execution_count": 8,
   "id": "f63cd373-a3a8-439e-ab47-7c7d82608fab",
   "metadata": {},
   "outputs": [
    {
     "name": "stdout",
     "output_type": "stream",
     "text": [
      "True\n",
      "r\n",
      "my-new-file.txt\n"
     ]
    }
   ],
   "source": [
    "# file attributes\n",
    "print(f.closed)\n",
    "print(f.mode)\n",
    "print(f.name)"
   ]
  },
  {
   "cell_type": "code",
   "execution_count": 15,
   "id": "852ee799-4b41-4805-a356-8db73a57a4a4",
   "metadata": {},
   "outputs": [
    {
     "name": "stdout",
     "output_type": "stream",
     "text": [
      "hello are you a frontend developer as well? \n",
      "  now \n",
      " "
     ]
    }
   ],
   "source": [
    "#seek method\n",
    "file_one = open(\"aadi.txt\",\"w\")\n",
    "file_one.write(\"hello aadi \\n\")\n",
    "file_one.seek(10,0)\n",
    "file_one.write(\"have you developed any software till now \\n\")\n",
    "file_one.seek(6,0)\n",
    "file_one.write(\"are you a frontend developer as well? \\n\")\n",
    "file_one.close()\n",
    "with open(\"aadi.txt\",\"r\") as f:\n",
    "    lines = f.readlines()\n",
    "    for line in lines:\n",
    "        print(line,end=\" \")"
   ]
  },
  {
   "cell_type": "code",
   "execution_count": 6,
   "id": "8e2c1659-82ab-4c5c-aa2e-81a32639d72b",
   "metadata": {},
   "outputs": [],
   "source": [
    "# serialization\n",
    "import json\n",
    "f = open(\"student_data\",\"w\")\n",
    "#f.write(\"abcdefgh\")\n",
    "student = {\"name\":\"aditya\",\"roll_no\":5,\"percentage\":78.99}\n",
    "json.dump(student,f)\n",
    "f.close()\n"
   ]
  },
  {
   "cell_type": "code",
   "execution_count": 7,
   "id": "5a4a2c43-3382-4681-8abd-813e17693cbd",
   "metadata": {},
   "outputs": [
    {
     "name": "stdout",
     "output_type": "stream",
     "text": [
      "The data of studnet is : {'name': 'aditya', 'roll_no': 5, 'percentage': 78.99}\n",
      "The type of stdent data is : <class 'dict'>\n"
     ]
    }
   ],
   "source": [
    "# Deserialization\n",
    "import json\n",
    "f = open(\"student_data\",\"r\")\n",
    "student = json.load(f)\n",
    "print(\"The data of studnet is :\",student)\n",
    "print(\"The type of stdent data is :\",type(student))\n",
    "f.close()"
   ]
  },
  {
   "cell_type": "code",
   "execution_count": 16,
   "id": "53924d21-ab37-44cb-b36a-76c6484e9d6c",
   "metadata": {},
   "outputs": [
    {
     "name": "stdout",
     "output_type": "stream",
     "text": [
      "The current working directory is : C:\\Users\\adity\\Python For DS\n",
      "List of contents in present directory : ['.git', '.ipynb_checkpoints', 'aadi.txt', 'ClassAndObjectHitesh.ipynb', 'Conditional and loops by Hitesh.ipynb', 'Decorators.ipynb', 'FunctionsHitesh.ipynb', 'messages.txt', 'my-new-file.txt', 'sampletext.txt', 'student_data', 'Week 5.ipynb', 'week3.ipynb', 'Week4.ipynb', 'Week6.ipynb']\n",
      "let's create a directory called mydir....\n"
     ]
    },
    {
     "data": {
      "text/plain": [
       "['.git',\n",
       " '.ipynb_checkpoints',\n",
       " 'aadi.txt',\n",
       " 'ClassAndObjectHitesh.ipynb',\n",
       " 'Conditional and loops by Hitesh.ipynb',\n",
       " 'Decorators.ipynb',\n",
       " 'FunctionsHitesh.ipynb',\n",
       " 'messages.txt',\n",
       " 'my-new-file.txt',\n",
       " 'mydir',\n",
       " 'sampletext.txt',\n",
       " 'student_data',\n",
       " 'Week 5.ipynb',\n",
       " 'week3.ipynb',\n",
       " 'Week4.ipynb',\n",
       " 'Week6.ipynb']"
      ]
     },
     "execution_count": 16,
     "metadata": {},
     "output_type": "execute_result"
    }
   ],
   "source": [
    "# Working with directories\n",
    "import os\n",
    "print(\"The current working directory is :\",os.getcwd())\n",
    "print(\"List of contents in present directory :\",os.listdir())\n",
    "print(\"let's create a directory called mydir....\")\n",
    "os.mkdir('mydir')\n",
    "os.listdir()"
   ]
  },
  {
   "cell_type": "code",
   "execution_count": 12,
   "id": "788c1934-bc67-4265-ba9d-4d240e2d8384",
   "metadata": {},
   "outputs": [
    {
     "name": "stdout",
     "output_type": "stream",
     "text": [
      "Change the directory to mydir...\n",
      "current directory C:\\Users\\adity\\Python For DS\\mydir\n"
     ]
    }
   ],
   "source": [
    "print(\"Change the directory to mydir...\")\n",
    "os.chdir('mydir')\n",
    "print(\"current directory\",os.getcwd())"
   ]
  },
  {
   "cell_type": "code",
   "execution_count": 13,
   "id": "293bbb32-f6a3-4d30-bc23-cb9f36a7b7b0",
   "metadata": {},
   "outputs": [
    {
     "name": "stdout",
     "output_type": "stream",
     "text": [
      "change back to the parent directory\n",
      "current directory : C:\\Users\\adity\\Python For DS\n"
     ]
    }
   ],
   "source": [
    "print(\"change back to the parent directory\")\n",
    "os.chdir(\"..\")\n",
    "print(\"current directory :\",os.getcwd())"
   ]
  },
  {
   "cell_type": "code",
   "execution_count": 14,
   "id": "e9b4dffc-478a-40b3-87c6-6b273c514e72",
   "metadata": {},
   "outputs": [
    {
     "name": "stdout",
     "output_type": "stream",
     "text": [
      "remove the mydir..\n"
     ]
    },
    {
     "data": {
      "text/plain": [
       "['.git',\n",
       " '.ipynb_checkpoints',\n",
       " 'aadi.txt',\n",
       " 'ClassAndObjectHitesh.ipynb',\n",
       " 'Conditional and loops by Hitesh.ipynb',\n",
       " 'Decorators.ipynb',\n",
       " 'FunctionsHitesh.ipynb',\n",
       " 'messages.txt',\n",
       " 'my-new-file.txt',\n",
       " 'sampletext.txt',\n",
       " 'student_data',\n",
       " 'Week 5.ipynb',\n",
       " 'week3.ipynb',\n",
       " 'Week4.ipynb',\n",
       " 'Week6.ipynb']"
      ]
     },
     "execution_count": 14,
     "metadata": {},
     "output_type": "execute_result"
    }
   ],
   "source": [
    "print(\"remove the mydir..\")\n",
    "os.rmdir('mydir')\n",
    "os.listdir()"
   ]
  },
  {
   "cell_type": "code",
   "execution_count": null,
   "id": "900796f5-0508-4548-aa9b-ff849f988063",
   "metadata": {},
   "outputs": [],
   "source": []
  },
  {
   "cell_type": "code",
   "execution_count": null,
   "id": "b120942e-896b-4865-acf2-4dba07e7ca27",
   "metadata": {},
   "outputs": [],
   "source": []
  }
 ],
 "metadata": {
  "kernelspec": {
   "display_name": "Python 3 (ipykernel)",
   "language": "python",
   "name": "python3"
  },
  "language_info": {
   "codemirror_mode": {
    "name": "ipython",
    "version": 3
   },
   "file_extension": ".py",
   "mimetype": "text/x-python",
   "name": "python",
   "nbconvert_exporter": "python",
   "pygments_lexer": "ipython3",
   "version": "3.11.7"
  }
 },
 "nbformat": 4,
 "nbformat_minor": 5
}
